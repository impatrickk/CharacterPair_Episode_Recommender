{
 "cells": [
  {
   "cell_type": "code",
   "execution_count": 1,
   "metadata": {
    "ExecuteTime": {
     "end_time": "2019-04-10T07:18:39.782858Z",
     "start_time": "2019-04-10T07:18:31.489386Z"
    }
   },
   "outputs": [],
   "source": [
    "import pandas as pd\n",
    "import numpy as np\n",
    "import nltk\n",
    "import networkx as nx\n",
    "import re\n",
    "import string\n",
    "from nltk import word_tokenize\n",
    "from nltk.corpus import stopwords\n",
    "from sklearn.decomposition import NMF\n",
    "from sklearn.metrics.pairwise import cosine_similarity\n",
    "from sklearn.feature_extraction.text import TfidfVectorizer\n",
    "from nltk.stem import WordNetLemmatizer"
   ]
  },
  {
   "cell_type": "code",
   "execution_count": 2,
   "metadata": {
    "ExecuteTime": {
     "end_time": "2019-04-10T07:18:39.955536Z",
     "start_time": "2019-04-10T07:18:39.789183Z"
    }
   },
   "outputs": [],
   "source": [
    "df = pd.read_csv('the-office-lines (drive) - scripts.csv')\n",
    "df_episode_full = pd.read_csv('The Office episode names2.csv')"
   ]
  },
  {
   "cell_type": "code",
   "execution_count": 3,
   "metadata": {
    "ExecuteTime": {
     "end_time": "2019-04-10T07:18:40.089145Z",
     "start_time": "2019-04-10T07:18:39.957498Z"
    }
   },
   "outputs": [],
   "source": [
    "df['line_text'] = df['line_text'].apply(lambda x: re.sub(r'\\[.*?\\]','', x))"
   ]
  },
  {
   "cell_type": "code",
   "execution_count": 4,
   "metadata": {
    "ExecuteTime": {
     "end_time": "2019-04-10T07:18:40.135664Z",
     "start_time": "2019-04-10T07:18:40.093452Z"
    }
   },
   "outputs": [
    {
     "data": {
      "text/html": [
       "<div>\n",
       "<style scoped>\n",
       "    .dataframe tbody tr th:only-of-type {\n",
       "        vertical-align: middle;\n",
       "    }\n",
       "\n",
       "    .dataframe tbody tr th {\n",
       "        vertical-align: top;\n",
       "    }\n",
       "\n",
       "    .dataframe thead th {\n",
       "        text-align: right;\n",
       "    }\n",
       "</style>\n",
       "<table border=\"1\" class=\"dataframe\">\n",
       "  <thead>\n",
       "    <tr style=\"text-align: right;\">\n",
       "      <th></th>\n",
       "      <th>id</th>\n",
       "      <th>season</th>\n",
       "      <th>episode</th>\n",
       "      <th>scene</th>\n",
       "      <th>line_text</th>\n",
       "      <th>speaker</th>\n",
       "      <th>deleted</th>\n",
       "    </tr>\n",
       "  </thead>\n",
       "  <tbody>\n",
       "    <tr>\n",
       "      <th>0</th>\n",
       "      <td>1</td>\n",
       "      <td>1</td>\n",
       "      <td>1</td>\n",
       "      <td>1</td>\n",
       "      <td>All right Jim. Your quarterlies look very good...</td>\n",
       "      <td>Michael</td>\n",
       "      <td>False</td>\n",
       "    </tr>\n",
       "    <tr>\n",
       "      <th>1</th>\n",
       "      <td>2</td>\n",
       "      <td>1</td>\n",
       "      <td>1</td>\n",
       "      <td>1</td>\n",
       "      <td>Oh, I told you. I couldn't close it. So...</td>\n",
       "      <td>Jim</td>\n",
       "      <td>False</td>\n",
       "    </tr>\n",
       "    <tr>\n",
       "      <th>2</th>\n",
       "      <td>3</td>\n",
       "      <td>1</td>\n",
       "      <td>1</td>\n",
       "      <td>1</td>\n",
       "      <td>So you've come to the master for guidance? Is ...</td>\n",
       "      <td>Michael</td>\n",
       "      <td>False</td>\n",
       "    </tr>\n",
       "    <tr>\n",
       "      <th>3</th>\n",
       "      <td>4</td>\n",
       "      <td>1</td>\n",
       "      <td>1</td>\n",
       "      <td>1</td>\n",
       "      <td>Actually, you called me in here, but yeah.</td>\n",
       "      <td>Jim</td>\n",
       "      <td>False</td>\n",
       "    </tr>\n",
       "    <tr>\n",
       "      <th>4</th>\n",
       "      <td>5</td>\n",
       "      <td>1</td>\n",
       "      <td>1</td>\n",
       "      <td>1</td>\n",
       "      <td>All right. Well, let me show you how it's done.</td>\n",
       "      <td>Michael</td>\n",
       "      <td>False</td>\n",
       "    </tr>\n",
       "    <tr>\n",
       "      <th>5</th>\n",
       "      <td>6</td>\n",
       "      <td>1</td>\n",
       "      <td>1</td>\n",
       "      <td>2</td>\n",
       "      <td>Yes, I'd like to speak to your office manager...</td>\n",
       "      <td>Michael</td>\n",
       "      <td>False</td>\n",
       "    </tr>\n",
       "    <tr>\n",
       "      <th>6</th>\n",
       "      <td>7</td>\n",
       "      <td>1</td>\n",
       "      <td>1</td>\n",
       "      <td>3</td>\n",
       "      <td>I've, uh, I've been at Dunder Mifflin for 12 y...</td>\n",
       "      <td>Michael</td>\n",
       "      <td>False</td>\n",
       "    </tr>\n",
       "    <tr>\n",
       "      <th>7</th>\n",
       "      <td>8</td>\n",
       "      <td>1</td>\n",
       "      <td>1</td>\n",
       "      <td>3</td>\n",
       "      <td>Well. I don't know.</td>\n",
       "      <td>Pam</td>\n",
       "      <td>False</td>\n",
       "    </tr>\n",
       "    <tr>\n",
       "      <th>8</th>\n",
       "      <td>9</td>\n",
       "      <td>1</td>\n",
       "      <td>1</td>\n",
       "      <td>3</td>\n",
       "      <td>If you think she's cute now, you should have s...</td>\n",
       "      <td>Michael</td>\n",
       "      <td>False</td>\n",
       "    </tr>\n",
       "    <tr>\n",
       "      <th>9</th>\n",
       "      <td>10</td>\n",
       "      <td>1</td>\n",
       "      <td>1</td>\n",
       "      <td>3</td>\n",
       "      <td>What?</td>\n",
       "      <td>Pam</td>\n",
       "      <td>False</td>\n",
       "    </tr>\n",
       "    <tr>\n",
       "      <th>10</th>\n",
       "      <td>11</td>\n",
       "      <td>1</td>\n",
       "      <td>1</td>\n",
       "      <td>3</td>\n",
       "      <td>Any messages?</td>\n",
       "      <td>Michael</td>\n",
       "      <td>False</td>\n",
       "    </tr>\n",
       "    <tr>\n",
       "      <th>11</th>\n",
       "      <td>12</td>\n",
       "      <td>1</td>\n",
       "      <td>1</td>\n",
       "      <td>3</td>\n",
       "      <td>Uh, yeah. Just a fax.</td>\n",
       "      <td>Pam</td>\n",
       "      <td>False</td>\n",
       "    </tr>\n",
       "    <tr>\n",
       "      <th>12</th>\n",
       "      <td>13</td>\n",
       "      <td>1</td>\n",
       "      <td>1</td>\n",
       "      <td>3</td>\n",
       "      <td>Oh! Pam, this is from Corporate. How many time...</td>\n",
       "      <td>Michael</td>\n",
       "      <td>False</td>\n",
       "    </tr>\n",
       "    <tr>\n",
       "      <th>13</th>\n",
       "      <td>14</td>\n",
       "      <td>1</td>\n",
       "      <td>1</td>\n",
       "      <td>3</td>\n",
       "      <td>You haven't told me.</td>\n",
       "      <td>Pam</td>\n",
       "      <td>False</td>\n",
       "    </tr>\n",
       "    <tr>\n",
       "      <th>14</th>\n",
       "      <td>15</td>\n",
       "      <td>1</td>\n",
       "      <td>1</td>\n",
       "      <td>3</td>\n",
       "      <td>It's called the wastepaper basket! Look at tha...</td>\n",
       "      <td>Michael</td>\n",
       "      <td>False</td>\n",
       "    </tr>\n",
       "    <tr>\n",
       "      <th>15</th>\n",
       "      <td>16</td>\n",
       "      <td>1</td>\n",
       "      <td>1</td>\n",
       "      <td>4</td>\n",
       "      <td>People say I am the best boss. They go, 'God w...</td>\n",
       "      <td>Michael</td>\n",
       "      <td>False</td>\n",
       "    </tr>\n",
       "    <tr>\n",
       "      <th>16</th>\n",
       "      <td>17</td>\n",
       "      <td>1</td>\n",
       "      <td>1</td>\n",
       "      <td>5</td>\n",
       "      <td>Shall I play for you? Pa rum pump um pum  I h...</td>\n",
       "      <td>Dwight</td>\n",
       "      <td>False</td>\n",
       "    </tr>\n",
       "    <tr>\n",
       "      <th>17</th>\n",
       "      <td>18</td>\n",
       "      <td>1</td>\n",
       "      <td>1</td>\n",
       "      <td>6</td>\n",
       "      <td>My job is to speak to clients on the phone abo...</td>\n",
       "      <td>Jim</td>\n",
       "      <td>False</td>\n",
       "    </tr>\n",
       "    <tr>\n",
       "      <th>18</th>\n",
       "      <td>19</td>\n",
       "      <td>1</td>\n",
       "      <td>1</td>\n",
       "      <td>7</td>\n",
       "      <td>Whassup!</td>\n",
       "      <td>Michael</td>\n",
       "      <td>False</td>\n",
       "    </tr>\n",
       "    <tr>\n",
       "      <th>19</th>\n",
       "      <td>20</td>\n",
       "      <td>1</td>\n",
       "      <td>1</td>\n",
       "      <td>7</td>\n",
       "      <td>Whassup! I still love that after seven years.</td>\n",
       "      <td>Jim</td>\n",
       "      <td>False</td>\n",
       "    </tr>\n",
       "    <tr>\n",
       "      <th>20</th>\n",
       "      <td>21</td>\n",
       "      <td>1</td>\n",
       "      <td>1</td>\n",
       "      <td>7</td>\n",
       "      <td>Whassup!</td>\n",
       "      <td>Michael</td>\n",
       "      <td>False</td>\n",
       "    </tr>\n",
       "    <tr>\n",
       "      <th>21</th>\n",
       "      <td>22</td>\n",
       "      <td>1</td>\n",
       "      <td>1</td>\n",
       "      <td>7</td>\n",
       "      <td>Whassup!</td>\n",
       "      <td>Dwight</td>\n",
       "      <td>False</td>\n",
       "    </tr>\n",
       "    <tr>\n",
       "      <th>22</th>\n",
       "      <td>23</td>\n",
       "      <td>1</td>\n",
       "      <td>1</td>\n",
       "      <td>7</td>\n",
       "      <td>Whass...up!</td>\n",
       "      <td>Michael</td>\n",
       "      <td>False</td>\n",
       "    </tr>\n",
       "    <tr>\n",
       "      <th>23</th>\n",
       "      <td>24</td>\n",
       "      <td>1</td>\n",
       "      <td>1</td>\n",
       "      <td>7</td>\n",
       "      <td>Whassup.</td>\n",
       "      <td>Dwight</td>\n",
       "      <td>False</td>\n",
       "    </tr>\n",
       "    <tr>\n",
       "      <th>24</th>\n",
       "      <td>25</td>\n",
       "      <td>1</td>\n",
       "      <td>1</td>\n",
       "      <td>7</td>\n",
       "      <td>What?</td>\n",
       "      <td>Michael</td>\n",
       "      <td>False</td>\n",
       "    </tr>\n",
       "    <tr>\n",
       "      <th>25</th>\n",
       "      <td>26</td>\n",
       "      <td>1</td>\n",
       "      <td>1</td>\n",
       "      <td>7</td>\n",
       "      <td>Nothing.</td>\n",
       "      <td>Jim</td>\n",
       "      <td>False</td>\n",
       "    </tr>\n",
       "    <tr>\n",
       "      <th>26</th>\n",
       "      <td>27</td>\n",
       "      <td>1</td>\n",
       "      <td>1</td>\n",
       "      <td>7</td>\n",
       "      <td>OK. All right. See you later.</td>\n",
       "      <td>Michael</td>\n",
       "      <td>False</td>\n",
       "    </tr>\n",
       "    <tr>\n",
       "      <th>27</th>\n",
       "      <td>28</td>\n",
       "      <td>1</td>\n",
       "      <td>1</td>\n",
       "      <td>7</td>\n",
       "      <td>All right. Take care.</td>\n",
       "      <td>Jim</td>\n",
       "      <td>False</td>\n",
       "    </tr>\n",
       "    <tr>\n",
       "      <th>28</th>\n",
       "      <td>29</td>\n",
       "      <td>1</td>\n",
       "      <td>1</td>\n",
       "      <td>7</td>\n",
       "      <td>Back to work.</td>\n",
       "      <td>Michael</td>\n",
       "      <td>False</td>\n",
       "    </tr>\n",
       "    <tr>\n",
       "      <th>29</th>\n",
       "      <td>30</td>\n",
       "      <td>1</td>\n",
       "      <td>1</td>\n",
       "      <td>8</td>\n",
       "      <td>Just before lunch. That would be great.</td>\n",
       "      <td>Jan</td>\n",
       "      <td>False</td>\n",
       "    </tr>\n",
       "    <tr>\n",
       "      <th>...</th>\n",
       "      <td>...</td>\n",
       "      <td>...</td>\n",
       "      <td>...</td>\n",
       "      <td>...</td>\n",
       "      <td>...</td>\n",
       "      <td>...</td>\n",
       "      <td>...</td>\n",
       "    </tr>\n",
       "    <tr>\n",
       "      <th>59876</th>\n",
       "      <td>59880</td>\n",
       "      <td>9</td>\n",
       "      <td>23</td>\n",
       "      <td>99</td>\n",
       "      <td>There it is.</td>\n",
       "      <td>Jim</td>\n",
       "      <td>False</td>\n",
       "    </tr>\n",
       "    <tr>\n",
       "      <th>59877</th>\n",
       "      <td>59881</td>\n",
       "      <td>9</td>\n",
       "      <td>23</td>\n",
       "      <td>100</td>\n",
       "      <td>Do I get along with my co-workers? Well, first...</td>\n",
       "      <td>Dwight</td>\n",
       "      <td>False</td>\n",
       "    </tr>\n",
       "    <tr>\n",
       "      <th>59878</th>\n",
       "      <td>59882</td>\n",
       "      <td>9</td>\n",
       "      <td>23</td>\n",
       "      <td>101</td>\n",
       "      <td>You might feel sorry for me but I actually fe...</td>\n",
       "      <td>Andy</td>\n",
       "      <td>False</td>\n",
       "    </tr>\n",
       "    <tr>\n",
       "      <th>59879</th>\n",
       "      <td>59883</td>\n",
       "      <td>9</td>\n",
       "      <td>23</td>\n",
       "      <td>101</td>\n",
       "      <td>Oh, Yes!</td>\n",
       "      <td>Kevin</td>\n",
       "      <td>False</td>\n",
       "    </tr>\n",
       "    <tr>\n",
       "      <th>59880</th>\n",
       "      <td>59884</td>\n",
       "      <td>9</td>\n",
       "      <td>23</td>\n",
       "      <td>101</td>\n",
       "      <td>You did good. Real good.</td>\n",
       "      <td>Darryl</td>\n",
       "      <td>False</td>\n",
       "    </tr>\n",
       "    <tr>\n",
       "      <th>59881</th>\n",
       "      <td>59885</td>\n",
       "      <td>9</td>\n",
       "      <td>23</td>\n",
       "      <td>101</td>\n",
       "      <td>Thanks Dad���Darryl.</td>\n",
       "      <td>Andy</td>\n",
       "      <td>False</td>\n",
       "    </tr>\n",
       "    <tr>\n",
       "      <th>59882</th>\n",
       "      <td>59886</td>\n",
       "      <td>9</td>\n",
       "      <td>23</td>\n",
       "      <td>102</td>\n",
       "      <td>I spent so much of my time here at Dunder Miff...</td>\n",
       "      <td>Andy</td>\n",
       "      <td>False</td>\n",
       "    </tr>\n",
       "    <tr>\n",
       "      <th>59883</th>\n",
       "      <td>59887</td>\n",
       "      <td>9</td>\n",
       "      <td>23</td>\n",
       "      <td>103</td>\n",
       "      <td>You take something ordinary, like a piece of p...</td>\n",
       "      <td>Oscar</td>\n",
       "      <td>False</td>\n",
       "    </tr>\n",
       "    <tr>\n",
       "      <th>59884</th>\n",
       "      <td>59888</td>\n",
       "      <td>9</td>\n",
       "      <td>23</td>\n",
       "      <td>104</td>\n",
       "      <td>Uh..ohh!</td>\n",
       "      <td>Creed</td>\n",
       "      <td>False</td>\n",
       "    </tr>\n",
       "    <tr>\n",
       "      <th>59885</th>\n",
       "      <td>59889</td>\n",
       "      <td>9</td>\n",
       "      <td>23</td>\n",
       "      <td>105</td>\n",
       "      <td>I saw a friend today. It had been a while. An...</td>\n",
       "      <td>Creed</td>\n",
       "      <td>False</td>\n",
       "    </tr>\n",
       "    <tr>\n",
       "      <th>59886</th>\n",
       "      <td>59890</td>\n",
       "      <td>9</td>\n",
       "      <td>23</td>\n",
       "      <td>106</td>\n",
       "      <td>Imagine going back and watching a tape of your...</td>\n",
       "      <td>Jim</td>\n",
       "      <td>False</td>\n",
       "    </tr>\n",
       "    <tr>\n",
       "      <th>59887</th>\n",
       "      <td>59891</td>\n",
       "      <td>9</td>\n",
       "      <td>23</td>\n",
       "      <td>107</td>\n",
       "      <td>Hey, Jim, remember flonkerton when you did Off...</td>\n",
       "      <td>Phyllis</td>\n",
       "      <td>False</td>\n",
       "    </tr>\n",
       "    <tr>\n",
       "      <th>59888</th>\n",
       "      <td>59892</td>\n",
       "      <td>9</td>\n",
       "      <td>23</td>\n",
       "      <td>107</td>\n",
       "      <td>Thanks Phyl.</td>\n",
       "      <td>Jim</td>\n",
       "      <td>False</td>\n",
       "    </tr>\n",
       "    <tr>\n",
       "      <th>59889</th>\n",
       "      <td>59893</td>\n",
       "      <td>9</td>\n",
       "      <td>23</td>\n",
       "      <td>107</td>\n",
       "      <td>I still have my medal from that.</td>\n",
       "      <td>Creed</td>\n",
       "      <td>False</td>\n",
       "    </tr>\n",
       "    <tr>\n",
       "      <th>59890</th>\n",
       "      <td>59894</td>\n",
       "      <td>9</td>\n",
       "      <td>23</td>\n",
       "      <td>107</td>\n",
       "      <td>Do you even have a mattress?</td>\n",
       "      <td>Angela</td>\n",
       "      <td>False</td>\n",
       "    </tr>\n",
       "    <tr>\n",
       "      <th>59891</th>\n",
       "      <td>59895</td>\n",
       "      <td>9</td>\n",
       "      <td>23</td>\n",
       "      <td>107</td>\n",
       "      <td>No, but I still have my medal from that.</td>\n",
       "      <td>Creed</td>\n",
       "      <td>False</td>\n",
       "    </tr>\n",
       "    <tr>\n",
       "      <th>59892</th>\n",
       "      <td>59896</td>\n",
       "      <td>9</td>\n",
       "      <td>23</td>\n",
       "      <td>108</td>\n",
       "      <td>Oscar. Oscar.  I think I���m gay.</td>\n",
       "      <td>Kevin</td>\n",
       "      <td>False</td>\n",
       "    </tr>\n",
       "    <tr>\n",
       "      <th>59893</th>\n",
       "      <td>59897</td>\n",
       "      <td>9</td>\n",
       "      <td>23</td>\n",
       "      <td>108</td>\n",
       "      <td>Why do you say that?</td>\n",
       "      <td>Oscar</td>\n",
       "      <td>False</td>\n",
       "    </tr>\n",
       "    <tr>\n",
       "      <th>59894</th>\n",
       "      <td>59898</td>\n",
       "      <td>9</td>\n",
       "      <td>23</td>\n",
       "      <td>108</td>\n",
       "      <td>It���s just that I���m so emotional.</td>\n",
       "      <td>Kevin</td>\n",
       "      <td>False</td>\n",
       "    </tr>\n",
       "    <tr>\n",
       "      <th>59895</th>\n",
       "      <td>59899</td>\n",
       "      <td>9</td>\n",
       "      <td>23</td>\n",
       "      <td>108</td>\n",
       "      <td>Yeah, but you���re not gay. You���re not gay.</td>\n",
       "      <td>Oscar</td>\n",
       "      <td>False</td>\n",
       "    </tr>\n",
       "    <tr>\n",
       "      <th>59896</th>\n",
       "      <td>59900</td>\n",
       "      <td>9</td>\n",
       "      <td>23</td>\n",
       "      <td>108</td>\n",
       "      <td>No, but maybe the reason���</td>\n",
       "      <td>Kevin</td>\n",
       "      <td>False</td>\n",
       "    </tr>\n",
       "    <tr>\n",
       "      <th>59897</th>\n",
       "      <td>59901</td>\n",
       "      <td>9</td>\n",
       "      <td>23</td>\n",
       "      <td>108</td>\n",
       "      <td>You���re not gay.</td>\n",
       "      <td>Oscar</td>\n",
       "      <td>False</td>\n",
       "    </tr>\n",
       "    <tr>\n",
       "      <th>59898</th>\n",
       "      <td>59902</td>\n",
       "      <td>9</td>\n",
       "      <td>23</td>\n",
       "      <td>109</td>\n",
       "      <td>And all the faces that I know have that same ...</td>\n",
       "      <td>Creed</td>\n",
       "      <td>False</td>\n",
       "    </tr>\n",
       "    <tr>\n",
       "      <th>59899</th>\n",
       "      <td>59903</td>\n",
       "      <td>9</td>\n",
       "      <td>23</td>\n",
       "      <td>110</td>\n",
       "      <td>How did you do it? How did you capture what it...</td>\n",
       "      <td>Erin</td>\n",
       "      <td>False</td>\n",
       "    </tr>\n",
       "    <tr>\n",
       "      <th>59900</th>\n",
       "      <td>59904</td>\n",
       "      <td>9</td>\n",
       "      <td>23</td>\n",
       "      <td>111</td>\n",
       "      <td>Everyday when I came into work, all I wanted t...</td>\n",
       "      <td>Darryl</td>\n",
       "      <td>False</td>\n",
       "    </tr>\n",
       "    <tr>\n",
       "      <th>59901</th>\n",
       "      <td>59905</td>\n",
       "      <td>9</td>\n",
       "      <td>23</td>\n",
       "      <td>112</td>\n",
       "      <td>It all seems so very arbitrary. I applied for ...</td>\n",
       "      <td>Creed</td>\n",
       "      <td>False</td>\n",
       "    </tr>\n",
       "    <tr>\n",
       "      <th>59902</th>\n",
       "      <td>59906</td>\n",
       "      <td>9</td>\n",
       "      <td>23</td>\n",
       "      <td>113</td>\n",
       "      <td>I just feel lucky that I got a chance to share...</td>\n",
       "      <td>Meredith</td>\n",
       "      <td>False</td>\n",
       "    </tr>\n",
       "    <tr>\n",
       "      <th>59903</th>\n",
       "      <td>59907</td>\n",
       "      <td>9</td>\n",
       "      <td>23</td>\n",
       "      <td>114</td>\n",
       "      <td>I���m happy that this was all filmed so I can ...</td>\n",
       "      <td>Phyllis</td>\n",
       "      <td>False</td>\n",
       "    </tr>\n",
       "    <tr>\n",
       "      <th>59904</th>\n",
       "      <td>59908</td>\n",
       "      <td>9</td>\n",
       "      <td>23</td>\n",
       "      <td>115</td>\n",
       "      <td>I sold paper at this company for 12 years. My ...</td>\n",
       "      <td>Jim</td>\n",
       "      <td>False</td>\n",
       "    </tr>\n",
       "    <tr>\n",
       "      <th>59905</th>\n",
       "      <td>59909</td>\n",
       "      <td>9</td>\n",
       "      <td>23</td>\n",
       "      <td>116</td>\n",
       "      <td>I thought it was weird when you picked us to m...</td>\n",
       "      <td>Pam</td>\n",
       "      <td>False</td>\n",
       "    </tr>\n",
       "  </tbody>\n",
       "</table>\n",
       "<p>59906 rows × 7 columns</p>\n",
       "</div>"
      ],
      "text/plain": [
       "          id  season  episode  scene  \\\n",
       "0          1       1        1      1   \n",
       "1          2       1        1      1   \n",
       "2          3       1        1      1   \n",
       "3          4       1        1      1   \n",
       "4          5       1        1      1   \n",
       "5          6       1        1      2   \n",
       "6          7       1        1      3   \n",
       "7          8       1        1      3   \n",
       "8          9       1        1      3   \n",
       "9         10       1        1      3   \n",
       "10        11       1        1      3   \n",
       "11        12       1        1      3   \n",
       "12        13       1        1      3   \n",
       "13        14       1        1      3   \n",
       "14        15       1        1      3   \n",
       "15        16       1        1      4   \n",
       "16        17       1        1      5   \n",
       "17        18       1        1      6   \n",
       "18        19       1        1      7   \n",
       "19        20       1        1      7   \n",
       "20        21       1        1      7   \n",
       "21        22       1        1      7   \n",
       "22        23       1        1      7   \n",
       "23        24       1        1      7   \n",
       "24        25       1        1      7   \n",
       "25        26       1        1      7   \n",
       "26        27       1        1      7   \n",
       "27        28       1        1      7   \n",
       "28        29       1        1      7   \n",
       "29        30       1        1      8   \n",
       "...      ...     ...      ...    ...   \n",
       "59876  59880       9       23     99   \n",
       "59877  59881       9       23    100   \n",
       "59878  59882       9       23    101   \n",
       "59879  59883       9       23    101   \n",
       "59880  59884       9       23    101   \n",
       "59881  59885       9       23    101   \n",
       "59882  59886       9       23    102   \n",
       "59883  59887       9       23    103   \n",
       "59884  59888       9       23    104   \n",
       "59885  59889       9       23    105   \n",
       "59886  59890       9       23    106   \n",
       "59887  59891       9       23    107   \n",
       "59888  59892       9       23    107   \n",
       "59889  59893       9       23    107   \n",
       "59890  59894       9       23    107   \n",
       "59891  59895       9       23    107   \n",
       "59892  59896       9       23    108   \n",
       "59893  59897       9       23    108   \n",
       "59894  59898       9       23    108   \n",
       "59895  59899       9       23    108   \n",
       "59896  59900       9       23    108   \n",
       "59897  59901       9       23    108   \n",
       "59898  59902       9       23    109   \n",
       "59899  59903       9       23    110   \n",
       "59900  59904       9       23    111   \n",
       "59901  59905       9       23    112   \n",
       "59902  59906       9       23    113   \n",
       "59903  59907       9       23    114   \n",
       "59904  59908       9       23    115   \n",
       "59905  59909       9       23    116   \n",
       "\n",
       "                                               line_text   speaker  deleted  \n",
       "0      All right Jim. Your quarterlies look very good...   Michael    False  \n",
       "1             Oh, I told you. I couldn't close it. So...       Jim    False  \n",
       "2      So you've come to the master for guidance? Is ...   Michael    False  \n",
       "3             Actually, you called me in here, but yeah.       Jim    False  \n",
       "4        All right. Well, let me show you how it's done.   Michael    False  \n",
       "5       Yes, I'd like to speak to your office manager...   Michael    False  \n",
       "6      I've, uh, I've been at Dunder Mifflin for 12 y...   Michael    False  \n",
       "7                                    Well. I don't know.       Pam    False  \n",
       "8      If you think she's cute now, you should have s...   Michael    False  \n",
       "9                                                  What?       Pam    False  \n",
       "10                                         Any messages?   Michael    False  \n",
       "11                                 Uh, yeah. Just a fax.       Pam    False  \n",
       "12     Oh! Pam, this is from Corporate. How many time...   Michael    False  \n",
       "13                                  You haven't told me.       Pam    False  \n",
       "14     It's called the wastepaper basket! Look at tha...   Michael    False  \n",
       "15     People say I am the best boss. They go, 'God w...   Michael    False  \n",
       "16      Shall I play for you? Pa rum pump um pum  I h...    Dwight    False  \n",
       "17     My job is to speak to clients on the phone abo...       Jim    False  \n",
       "18                                              Whassup!   Michael    False  \n",
       "19         Whassup! I still love that after seven years.       Jim    False  \n",
       "20                                              Whassup!   Michael    False  \n",
       "21                                              Whassup!    Dwight    False  \n",
       "22                                           Whass...up!   Michael    False  \n",
       "23                                              Whassup.    Dwight    False  \n",
       "24                                                 What?   Michael    False  \n",
       "25                                              Nothing.       Jim    False  \n",
       "26                         OK. All right. See you later.   Michael    False  \n",
       "27                                 All right. Take care.       Jim    False  \n",
       "28                                         Back to work.   Michael    False  \n",
       "29               Just before lunch. That would be great.       Jan    False  \n",
       "...                                                  ...       ...      ...  \n",
       "59876                                       There it is.       Jim    False  \n",
       "59877  Do I get along with my co-workers? Well, first...    Dwight    False  \n",
       "59878   You might feel sorry for me but I actually fe...      Andy    False  \n",
       "59879                                           Oh, Yes!     Kevin    False  \n",
       "59880                           You did good. Real good.    Darryl    False  \n",
       "59881                               Thanks Dad���Darryl.      Andy    False  \n",
       "59882  I spent so much of my time here at Dunder Miff...      Andy    False  \n",
       "59883  You take something ordinary, like a piece of p...     Oscar    False  \n",
       "59884                                           Uh..ohh!     Creed    False  \n",
       "59885   I saw a friend today. It had been a while. An...     Creed    False  \n",
       "59886  Imagine going back and watching a tape of your...       Jim    False  \n",
       "59887  Hey, Jim, remember flonkerton when you did Off...   Phyllis    False  \n",
       "59888                                       Thanks Phyl.       Jim    False  \n",
       "59889                   I still have my medal from that.     Creed    False  \n",
       "59890                       Do you even have a mattress?    Angela    False  \n",
       "59891           No, but I still have my medal from that.     Creed    False  \n",
       "59892                  Oscar. Oscar.  I think I���m gay.     Kevin    False  \n",
       "59893                               Why do you say that?     Oscar    False  \n",
       "59894               It���s just that I���m so emotional.     Kevin    False  \n",
       "59895      Yeah, but you���re not gay. You���re not gay.     Oscar    False  \n",
       "59896                        No, but maybe the reason���     Kevin    False  \n",
       "59897                                  You���re not gay.     Oscar    False  \n",
       "59898   And all the faces that I know have that same ...     Creed    False  \n",
       "59899  How did you do it? How did you capture what it...      Erin    False  \n",
       "59900  Everyday when I came into work, all I wanted t...    Darryl    False  \n",
       "59901  It all seems so very arbitrary. I applied for ...     Creed    False  \n",
       "59902  I just feel lucky that I got a chance to share...  Meredith    False  \n",
       "59903  I���m happy that this was all filmed so I can ...   Phyllis    False  \n",
       "59904  I sold paper at this company for 12 years. My ...       Jim    False  \n",
       "59905  I thought it was weird when you picked us to m...       Pam    False  \n",
       "\n",
       "[59906 rows x 7 columns]"
      ]
     },
     "execution_count": 4,
     "metadata": {},
     "output_type": "execute_result"
    }
   ],
   "source": [
    "df"
   ]
  },
  {
   "cell_type": "code",
   "execution_count": 5,
   "metadata": {
    "ExecuteTime": {
     "end_time": "2019-04-10T07:18:40.147734Z",
     "start_time": "2019-04-10T07:18:40.140532Z"
    }
   },
   "outputs": [],
   "source": [
    "df_episode_full['title'] = df_episode_full['title'].str[1:-1]\n",
    "\n",
    "df_episode_list = df_episode_full.drop(columns = 'date')"
   ]
  },
  {
   "cell_type": "code",
   "execution_count": 6,
   "metadata": {
    "ExecuteTime": {
     "end_time": "2019-04-10T07:18:40.234076Z",
     "start_time": "2019-04-10T07:18:40.150952Z"
    }
   },
   "outputs": [],
   "source": [
    "df = df[df['deleted']==False]\n",
    "df = df.drop(columns = 'deleted')\n",
    "df = df.reset_index(drop=True)\n",
    "df['id'] = df.reset_index()"
   ]
  },
  {
   "cell_type": "markdown",
   "metadata": {},
   "source": [
    "### Preprocess the text"
   ]
  },
  {
   "cell_type": "code",
   "execution_count": 7,
   "metadata": {
    "ExecuteTime": {
     "end_time": "2019-04-10T07:18:41.315401Z",
     "start_time": "2019-04-10T07:18:40.238706Z"
    }
   },
   "outputs": [],
   "source": [
    "# Text preprocessing steps - remove numbers, captial letters and punctuation\n",
    "alphanumeric = lambda x: re.sub('\\w*\\d\\w*', '', x)\n",
    "special_char = lambda x: re.sub('�', '', x)\n",
    "punc_lower = lambda x: re.sub('[%s]' % re.escape(string.punctuation), '', x.lower())\n",
    "\n",
    "df['line_text'] = df.line_text.map(alphanumeric).map(special_char).map(punc_lower)"
   ]
  },
  {
   "cell_type": "code",
   "execution_count": 8,
   "metadata": {
    "ExecuteTime": {
     "end_time": "2019-04-10T07:18:41.352065Z",
     "start_time": "2019-04-10T07:18:41.317488Z"
    }
   },
   "outputs": [],
   "source": [
    "#lower case character names\n",
    "lower = lambda x: x.lower()\n",
    "\n",
    "df['speaker'] = df.speaker.map(lower)"
   ]
  },
  {
   "cell_type": "markdown",
   "metadata": {},
   "source": [
    "### Creating documents by episode"
   ]
  },
  {
   "cell_type": "code",
   "execution_count": 9,
   "metadata": {
    "ExecuteTime": {
     "end_time": "2019-04-10T07:18:41.433008Z",
     "start_time": "2019-04-10T07:18:41.354495Z"
    }
   },
   "outputs": [
    {
     "data": {
      "text/plain": [
       "(186, 3)"
      ]
     },
     "execution_count": 9,
     "metadata": {},
     "output_type": "execute_result"
    }
   ],
   "source": [
    "df_episode = pd.DataFrame(df.groupby(['season','episode'])['line_text'].apply(' '.join).reset_index())\n",
    "\n",
    "df_episode.shape"
   ]
  },
  {
   "cell_type": "markdown",
   "metadata": {},
   "source": [
    "### Creating documents by scene"
   ]
  },
  {
   "cell_type": "code",
   "execution_count": 10,
   "metadata": {
    "ExecuteTime": {
     "end_time": "2019-04-10T07:18:42.516038Z",
     "start_time": "2019-04-10T07:18:41.435772Z"
    }
   },
   "outputs": [
    {
     "data": {
      "text/plain": [
       "(8849, 4)"
      ]
     },
     "execution_count": 10,
     "metadata": {},
     "output_type": "execute_result"
    }
   ],
   "source": [
    "df_scene = pd.DataFrame(df.groupby(['season','episode','scene'])['line_text'].apply(' '.join).reset_index())\n",
    "\n",
    "df_scene.shape"
   ]
  },
  {
   "cell_type": "markdown",
   "metadata": {},
   "source": [
    "### Creating documents by character and season (appearing in at least 4 seasons)"
   ]
  },
  {
   "cell_type": "code",
   "execution_count": 11,
   "metadata": {
    "ExecuteTime": {
     "end_time": "2019-04-10T07:18:42.717111Z",
     "start_time": "2019-04-10T07:18:42.519099Z"
    }
   },
   "outputs": [],
   "source": [
    "df_char_season = pd.DataFrame(df.groupby(['season','speaker'])['line_text'].apply(' '.join).reset_index())\n",
    "\n",
    "#4 seasons\n",
    "df_char_season2 = df_char_season[df_char_season['speaker'].isin(df_char_season['speaker'].value_counts()[df_char_season['speaker'].value_counts()>3].index)]"
   ]
  },
  {
   "cell_type": "code",
   "execution_count": 12,
   "metadata": {
    "ExecuteTime": {
     "end_time": "2019-04-10T07:18:42.723089Z",
     "start_time": "2019-04-10T07:18:42.719177Z"
    }
   },
   "outputs": [
    {
     "name": "stdout",
     "output_type": "stream",
     "text": [
      "(1139, 3)\n",
      "(293, 3)\n"
     ]
    }
   ],
   "source": [
    "print(df_char_season.shape)\n",
    "print(df_char_season2.shape)"
   ]
  },
  {
   "cell_type": "markdown",
   "metadata": {},
   "source": [
    "### Creating documents by speaker"
   ]
  },
  {
   "cell_type": "code",
   "execution_count": 13,
   "metadata": {
    "ExecuteTime": {
     "end_time": "2019-04-10T07:18:42.733238Z",
     "start_time": "2019-04-10T07:18:42.727365Z"
    },
    "code_folding": []
   },
   "outputs": [],
   "source": [
    "characters = ['andy',\n",
    " 'angela',\n",
    " 'darryl',\n",
    " 'dwight',\n",
    " 'jan',\n",
    " 'jim',\n",
    " 'kelly',\n",
    " 'kevin',\n",
    " 'michael',\n",
    " 'oscar',\n",
    " 'pam',\n",
    " 'phyllis',\n",
    " 'ryan',\n",
    " 'toby']"
   ]
  },
  {
   "cell_type": "code",
   "execution_count": 14,
   "metadata": {
    "ExecuteTime": {
     "end_time": "2019-04-10T07:18:42.900425Z",
     "start_time": "2019-04-10T07:18:42.736979Z"
    }
   },
   "outputs": [],
   "source": [
    "df_speaker = pd.DataFrame(df.groupby(['speaker'])['line_text'].apply(' '.join).reset_index())\n",
    "\n",
    "df_speaker2 = df_speaker[df_speaker['speaker'].isin(characters)]"
   ]
  },
  {
   "cell_type": "code",
   "execution_count": 15,
   "metadata": {
    "ExecuteTime": {
     "end_time": "2019-04-10T07:18:42.908010Z",
     "start_time": "2019-04-10T07:18:42.903422Z"
    }
   },
   "outputs": [
    {
     "name": "stdout",
     "output_type": "stream",
     "text": [
      "(759, 2)\n",
      "(14, 2)\n"
     ]
    }
   ],
   "source": [
    "print(df_speaker.shape)\n",
    "print(df_speaker2.shape)"
   ]
  },
  {
   "cell_type": "markdown",
   "metadata": {},
   "source": [
    "### Creating documents by character and episode"
   ]
  },
  {
   "cell_type": "code",
   "execution_count": 16,
   "metadata": {
    "ExecuteTime": {
     "end_time": "2019-04-10T07:18:43.486732Z",
     "start_time": "2019-04-10T07:18:42.911764Z"
    }
   },
   "outputs": [],
   "source": [
    "df_char_episode = pd.DataFrame(df.groupby(['season','episode','speaker'])['line_text'].apply(' '.join).reset_index())"
   ]
  },
  {
   "cell_type": "code",
   "execution_count": 17,
   "metadata": {
    "ExecuteTime": {
     "end_time": "2019-04-10T07:18:43.501921Z",
     "start_time": "2019-04-10T07:18:43.489019Z"
    }
   },
   "outputs": [],
   "source": [
    "df_char_episode = df_char_episode.merge(df_episode_list, on = ['season','episode'])"
   ]
  },
  {
   "cell_type": "code",
   "execution_count": 18,
   "metadata": {
    "ExecuteTime": {
     "end_time": "2019-04-10T07:18:43.540083Z",
     "start_time": "2019-04-10T07:18:43.519134Z"
    }
   },
   "outputs": [
    {
     "data": {
      "text/html": [
       "<div>\n",
       "<style scoped>\n",
       "    .dataframe tbody tr th:only-of-type {\n",
       "        vertical-align: middle;\n",
       "    }\n",
       "\n",
       "    .dataframe tbody tr th {\n",
       "        vertical-align: top;\n",
       "    }\n",
       "\n",
       "    .dataframe thead th {\n",
       "        text-align: right;\n",
       "    }\n",
       "</style>\n",
       "<table border=\"1\" class=\"dataframe\">\n",
       "  <thead>\n",
       "    <tr style=\"text-align: right;\">\n",
       "      <th></th>\n",
       "      <th>season</th>\n",
       "      <th>episode</th>\n",
       "      <th>speaker</th>\n",
       "      <th>line_text</th>\n",
       "      <th>title</th>\n",
       "    </tr>\n",
       "  </thead>\n",
       "  <tbody>\n",
       "    <tr>\n",
       "      <th>0</th>\n",
       "      <td>1</td>\n",
       "      <td>1</td>\n",
       "      <td>angela</td>\n",
       "      <td>i bet its gonna be me probably gonna be me</td>\n",
       "      <td>Pilot</td>\n",
       "    </tr>\n",
       "    <tr>\n",
       "      <th>1</th>\n",
       "      <td>1</td>\n",
       "      <td>1</td>\n",
       "      <td>dwight</td>\n",
       "      <td>shall i play for you pa rum pump um pum  i ha...</td>\n",
       "      <td>Pilot</td>\n",
       "    </tr>\n",
       "    <tr>\n",
       "      <th>2</th>\n",
       "      <td>1</td>\n",
       "      <td>1</td>\n",
       "      <td>jan</td>\n",
       "      <td>just before lunch that would be great alright...</td>\n",
       "      <td>Pilot</td>\n",
       "    </tr>\n",
       "    <tr>\n",
       "      <th>3</th>\n",
       "      <td>1</td>\n",
       "      <td>1</td>\n",
       "      <td>jim</td>\n",
       "      <td>oh i told you i couldnt close it so actually y...</td>\n",
       "      <td>Pilot</td>\n",
       "    </tr>\n",
       "    <tr>\n",
       "      <th>4</th>\n",
       "      <td>1</td>\n",
       "      <td>1</td>\n",
       "      <td>kevin</td>\n",
       "      <td>yeah itll be you</td>\n",
       "      <td>Pilot</td>\n",
       "    </tr>\n",
       "  </tbody>\n",
       "</table>\n",
       "</div>"
      ],
      "text/plain": [
       "   season  episode speaker                                          line_text  \\\n",
       "0       1        1  angela         i bet its gonna be me probably gonna be me   \n",
       "1       1        1  dwight   shall i play for you pa rum pump um pum  i ha...   \n",
       "2       1        1     jan   just before lunch that would be great alright...   \n",
       "3       1        1     jim  oh i told you i couldnt close it so actually y...   \n",
       "4       1        1   kevin                                   yeah itll be you   \n",
       "\n",
       "   title  \n",
       "0  Pilot  \n",
       "1  Pilot  \n",
       "2  Pilot  \n",
       "3  Pilot  \n",
       "4  Pilot  "
      ]
     },
     "execution_count": 18,
     "metadata": {},
     "output_type": "execute_result"
    }
   ],
   "source": [
    "df_char_episode.head()"
   ]
  },
  {
   "cell_type": "code",
   "execution_count": 19,
   "metadata": {
    "ExecuteTime": {
     "end_time": "2019-04-10T07:18:43.559344Z",
     "start_time": "2019-04-10T07:18:43.550916Z"
    }
   },
   "outputs": [
    {
     "data": {
      "text/plain": [
       "(4044, 5)"
      ]
     },
     "execution_count": 19,
     "metadata": {},
     "output_type": "execute_result"
    }
   ],
   "source": [
    "df_char_episode.shape"
   ]
  },
  {
   "cell_type": "code",
   "execution_count": 20,
   "metadata": {
    "ExecuteTime": {
     "end_time": "2019-04-10T07:18:43.576701Z",
     "start_time": "2019-04-10T07:18:43.563047Z"
    }
   },
   "outputs": [],
   "source": [
    "# if line text in that episode is over certain number of characters\n",
    "df_char_episode2 = df_char_episode[df_char_episode['line_text'].str.len()>119]"
   ]
  },
  {
   "cell_type": "code",
   "execution_count": 21,
   "metadata": {
    "ExecuteTime": {
     "end_time": "2019-04-10T07:18:43.597937Z",
     "start_time": "2019-04-10T07:18:43.580513Z"
    }
   },
   "outputs": [
    {
     "data": {
      "text/html": [
       "<div>\n",
       "<style scoped>\n",
       "    .dataframe tbody tr th:only-of-type {\n",
       "        vertical-align: middle;\n",
       "    }\n",
       "\n",
       "    .dataframe tbody tr th {\n",
       "        vertical-align: top;\n",
       "    }\n",
       "\n",
       "    .dataframe thead th {\n",
       "        text-align: right;\n",
       "    }\n",
       "</style>\n",
       "<table border=\"1\" class=\"dataframe\">\n",
       "  <thead>\n",
       "    <tr style=\"text-align: right;\">\n",
       "      <th></th>\n",
       "      <th>season</th>\n",
       "      <th>episode</th>\n",
       "      <th>speaker</th>\n",
       "      <th>line_text</th>\n",
       "      <th>title</th>\n",
       "    </tr>\n",
       "  </thead>\n",
       "  <tbody>\n",
       "    <tr>\n",
       "      <th>1</th>\n",
       "      <td>1</td>\n",
       "      <td>1</td>\n",
       "      <td>dwight</td>\n",
       "      <td>shall i play for you pa rum pump um pum  i ha...</td>\n",
       "      <td>Pilot</td>\n",
       "    </tr>\n",
       "    <tr>\n",
       "      <th>2</th>\n",
       "      <td>1</td>\n",
       "      <td>1</td>\n",
       "      <td>jan</td>\n",
       "      <td>just before lunch that would be great alright...</td>\n",
       "      <td>Pilot</td>\n",
       "    </tr>\n",
       "    <tr>\n",
       "      <th>3</th>\n",
       "      <td>1</td>\n",
       "      <td>1</td>\n",
       "      <td>jim</td>\n",
       "      <td>oh i told you i couldnt close it so actually y...</td>\n",
       "      <td>Pilot</td>\n",
       "    </tr>\n",
       "    <tr>\n",
       "      <th>6</th>\n",
       "      <td>1</td>\n",
       "      <td>1</td>\n",
       "      <td>michael</td>\n",
       "      <td>all right jim your quarterlies look very good ...</td>\n",
       "      <td>Pilot</td>\n",
       "    </tr>\n",
       "    <tr>\n",
       "      <th>7</th>\n",
       "      <td>1</td>\n",
       "      <td>1</td>\n",
       "      <td>oscar</td>\n",
       "      <td>you guys better update your resumes just like ...</td>\n",
       "      <td>Pilot</td>\n",
       "    </tr>\n",
       "  </tbody>\n",
       "</table>\n",
       "</div>"
      ],
      "text/plain": [
       "   season  episode  speaker  \\\n",
       "1       1        1   dwight   \n",
       "2       1        1      jan   \n",
       "3       1        1      jim   \n",
       "6       1        1  michael   \n",
       "7       1        1    oscar   \n",
       "\n",
       "                                           line_text  title  \n",
       "1   shall i play for you pa rum pump um pum  i ha...  Pilot  \n",
       "2   just before lunch that would be great alright...  Pilot  \n",
       "3  oh i told you i couldnt close it so actually y...  Pilot  \n",
       "6  all right jim your quarterlies look very good ...  Pilot  \n",
       "7  you guys better update your resumes just like ...  Pilot  "
      ]
     },
     "execution_count": 21,
     "metadata": {},
     "output_type": "execute_result"
    }
   ],
   "source": [
    "df_char_episode2.head()"
   ]
  },
  {
   "cell_type": "code",
   "execution_count": 22,
   "metadata": {
    "ExecuteTime": {
     "end_time": "2019-04-10T07:18:43.605470Z",
     "start_time": "2019-04-10T07:18:43.601258Z"
    }
   },
   "outputs": [],
   "source": [
    "df_titles = df_char_episode2.title"
   ]
  },
  {
   "cell_type": "code",
   "execution_count": 23,
   "metadata": {
    "ExecuteTime": {
     "end_time": "2019-04-10T07:18:43.615987Z",
     "start_time": "2019-04-10T07:18:43.610221Z"
    }
   },
   "outputs": [],
   "source": [
    "speakers = df_char_episode2.speaker"
   ]
  },
  {
   "cell_type": "code",
   "execution_count": 24,
   "metadata": {
    "ExecuteTime": {
     "end_time": "2019-04-10T07:18:43.624955Z",
     "start_time": "2019-04-10T07:18:43.619692Z"
    }
   },
   "outputs": [],
   "source": [
    "seasons = df_char_episode2['season']"
   ]
  },
  {
   "cell_type": "code",
   "execution_count": 25,
   "metadata": {
    "ExecuteTime": {
     "end_time": "2019-04-10T07:18:43.633181Z",
     "start_time": "2019-04-10T07:18:43.628970Z"
    }
   },
   "outputs": [],
   "source": [
    "# # if speaker appears in at least4 seasons\n",
    "# df_char_episode2 = df_char_episode[df_char_episode['speaker'].isin(df_char_episode['speaker'].value_counts()[df_char_episode['speaker'].value_counts()>3].index)]"
   ]
  },
  {
   "cell_type": "markdown",
   "metadata": {
    "ExecuteTime": {
     "end_time": "2019-02-23T00:04:31.806846Z",
     "start_time": "2019-02-23T00:04:31.800266Z"
    }
   },
   "source": [
    "# Stop words"
   ]
  },
  {
   "cell_type": "code",
   "execution_count": 26,
   "metadata": {
    "ExecuteTime": {
     "end_time": "2019-04-10T07:18:43.674418Z",
     "start_time": "2019-04-10T07:18:43.637553Z"
    }
   },
   "outputs": [
    {
     "data": {
      "text/plain": [
       "276"
      ]
     },
     "execution_count": 26,
     "metadata": {},
     "output_type": "execute_result"
    }
   ],
   "source": [
    "#Create my own stop words list\n",
    "stoplist = set(nltk.corpus.stopwords.words('english'))\n",
    "\n",
    "\n",
    "\n",
    "# add words that aren't in the NLTK stopwords list\n",
    "\n",
    "new_stopwords = [\"isnt\", \"youve\", \"shant\", \"youre\", \"wont\",  \"wasnt\", \"mightnt\", \"mustnt\", \"couldnt\",\n",
    "                 \"wouldnt\", \"hadnt\", \"shouldnt\",  \"neednt\",\"werent\", \"havent\",\"thatll\", \"its\",  \n",
    "                 \"shouldve\", \"arent\", \"hasnt\", \"youll\",\"doesnt\", \"didnt\",  \"dont\", \"youd\", \"shes\",\n",
    "                 'im','ive','hes','na','da','lets','whoa','alright','hello','hi','wanna','ah','also','ask',\n",
    "                'three','theyre','name','id','place', 'everybody', 'ta', 'room','huh','blah','done','wan',\n",
    "                'seen', 'coming', 'stuff', 'every','robert','uhhuh','took','try','saying','looking','made',\n",
    "                 'four', 'nothing','mom','guess','saw','use','later', 'sometimes','yet','meant',\n",
    "                 'gabe','erin','creed','senator','malone','meredith','deangelo','someone','cooky','nope',\n",
    "                'fine', 'point', 'gun', 'head', 'hold', 'still', 'open', 'list',\n",
    "                 'stop','cool', 'scene', 'question','five','minute','week']\n",
    "#                  'gotta', 'id', 'getting','theyre','huh','gets']\n",
    "                 \n",
    "# new_stopwords = [\"isnt\", \"youve\", \"shant\", \"youre\", \"wont\",  \"wasnt\", \"mightnt\", \"mustnt\", \"couldnt\",\n",
    "#                  \"wouldnt\", \"hadnt\", \"shouldnt\",  \"neednt\",\"werent\", \"havent\",\"thatll\", \"its\",  \n",
    "#                  \"shouldve\", \"arent\", \"hasnt\", \"youll\",\"doesnt\", \"didnt\",  \"dont\", \"youd\", \"shes\",'im',\n",
    "#                  'oh','uh', 'um', 'think', 'thats','okay', 'know', 'yeah', 'right', 'like', 'well', \n",
    "#                  'go', 'hey', 'ok', 'going', 'get', 'good', 'really', 'want', 'one','gonna','hes', 'would','see',\n",
    "#                  'yes','could','cant','come','got','say','lets','back', 'look','alright','guys','back', 'guys',  \n",
    "#                  'great', 'man','time','whoa','take','pum','ill','na','wait','us','said','da','make','ive','theres',\n",
    "#                  'whats','need','sure','lot','nope','way','yall','tell','theyre',\n",
    "#                  'thank', 'little', 'people', 'thing', 'something', 'two', 'let','three','even','thought']\n",
    "\n",
    "\n",
    "char_stopwords = []\n",
    "# char_stopwords = ['michael', 'jim', 'dwight', 'pam', 'ryan', 'andy', 'erin','robert', 'darryl', \n",
    "# 'meredith', 'jessica', 'phyllis', 'deangelo','deangelos','gabe', 'jan', 'josh','karen','roy',\n",
    "# 'toby','holly','hollys','kevin','angela','kelly','mike','oscar']\n",
    "\n",
    "\n",
    "new_stopwords_list = stoplist.union(new_stopwords) \n",
    "new_stopwords_list = new_stopwords_list.union(char_stopwords) \n",
    "\n",
    "# print(new_stopwords_list)\n",
    "len(new_stopwords_list)"
   ]
  },
  {
   "cell_type": "markdown",
   "metadata": {},
   "source": [
    "# TFIDF"
   ]
  },
  {
   "cell_type": "code",
   "execution_count": 27,
   "metadata": {
    "ExecuteTime": {
     "end_time": "2019-04-10T07:18:43.685332Z",
     "start_time": "2019-04-10T07:18:43.680064Z"
    }
   },
   "outputs": [],
   "source": [
    "topic_count = 9 #9 is good"
   ]
  },
  {
   "cell_type": "code",
   "execution_count": 28,
   "metadata": {
    "ExecuteTime": {
     "end_time": "2019-04-10T07:18:43.694961Z",
     "start_time": "2019-04-10T07:18:43.688553Z"
    }
   },
   "outputs": [],
   "source": [
    "class LemmaTokenizer(object):\n",
    "    def __init__(self):\n",
    "        self.wnl = WordNetLemmatizer()\n",
    "    def __call__(self, articles):\n",
    "        return [self.wnl.lemmatize(t) for t in word_tokenize(articles)]"
   ]
  },
  {
   "cell_type": "code",
   "execution_count": 29,
   "metadata": {
    "ExecuteTime": {
     "end_time": "2019-04-10T07:18:51.350577Z",
     "start_time": "2019-04-10T07:18:43.699132Z"
    }
   },
   "outputs": [
    {
     "name": "stderr",
     "output_type": "stream",
     "text": [
      "/anaconda3/lib/python3.7/site-packages/sklearn/feature_extraction/text.py:300: UserWarning: Your stop_words may be inconsistent with your preprocessing. Tokenizing the stop words generated tokens [\"'d\", \"'ll\", \"'re\", \"'s\", \"'ve\", 'could', 'doe', 'ha', 'let', 'might', 'must', \"n't\", 'need', 'sha', 'wa', 'wo', 'would'] not in stop_words.\n",
      "  'stop_words.' % sorted(inconsistent))\n"
     ]
    },
    {
     "data": {
      "text/plain": [
       "(2694, 2088)"
      ]
     },
     "execution_count": 29,
     "metadata": {},
     "output_type": "execute_result"
    }
   ],
   "source": [
    "cv_tfidf = TfidfVectorizer(tokenizer=LemmaTokenizer(), max_df=.12911, min_df=12, stop_words=new_stopwords_list)\n",
    "\n",
    "X_tfidf = cv_tfidf.fit_transform(df_char_episode2.line_text).toarray()\n",
    "\n",
    "df3 = pd.DataFrame(X_tfidf, columns= cv_tfidf.get_feature_names())\n",
    "df3.shape"
   ]
  },
  {
   "cell_type": "code",
   "execution_count": 30,
   "metadata": {
    "ExecuteTime": {
     "end_time": "2019-04-10T07:18:53.796564Z",
     "start_time": "2019-04-10T07:18:51.354219Z"
    }
   },
   "outputs": [],
   "source": [
    "#TFIDF\n",
    "nmf_model = NMF(topic_count)\n",
    "doc_topic = nmf_model.fit_transform(X_tfidf) #enter model here\n",
    "\n",
    "topic_word = pd.DataFrame(nmf_model.components_.round(3),\n",
    "             index = [x for x in range(topic_count)],\n",
    "             columns = cv_tfidf.get_feature_names())\n",
    "# topic_word"
   ]
  },
  {
   "cell_type": "code",
   "execution_count": 31,
   "metadata": {
    "ExecuteTime": {
     "end_time": "2019-04-10T07:18:53.818097Z",
     "start_time": "2019-04-10T07:18:53.798781Z"
    }
   },
   "outputs": [
    {
     "name": "stdout",
     "output_type": "stream",
     "text": [
      "\n",
      "Topic  0\n",
      "wow, night, last, cause, pretty, darryl, car, around, home, keep\n",
      "\n",
      "Topic  1\n",
      "party, christmas, phyllis, committee, planning, santa, merry, birthday, cake, gift\n",
      "\n",
      "Topic  2\n",
      "baby, cute, daddy, check, picture, shower, kind, hospital, night, child\n",
      "\n",
      "Topic  3\n",
      "paper, company, dunder, mifflin, business, client, sale, david, manager, branch\n",
      "\n",
      "Topic  4\n",
      "kevin, hot, toby, cupcake, cookie, birthday, inappropriate, hand, oscar, pie\n",
      "\n",
      "Topic  5\n",
      "ryan, kelly, business, howard, temp, married, awesome, message, kapoor, fire\n",
      "\n",
      "Topic  6\n",
      "mr, scott, dream, sir, true, schrute, relationship, around, halpert, excuse\n",
      "\n",
      "Topic  7\n",
      "angela, oscar, gay, wedding, phyllis, wrong, husband, angelas, always, cat\n",
      "\n",
      "Topic  8\n",
      "jan, friend, woman, holly, kid, relationship, might, york, excuse, bos\n"
     ]
    }
   ],
   "source": [
    "def display_topics(model, feature_names, no_top_words, topic_names=None):\n",
    "    for ix, topic in enumerate(model.components_):\n",
    "        if not topic_names or not topic_names[ix]:\n",
    "            print(\"\\nTopic \", ix)\n",
    "        else:\n",
    "            print(\"\\nTopic: '\",topic_names[ix],\"'\")\n",
    "        print(\", \".join([feature_names[i]\n",
    "                        for i in topic.argsort()[:-no_top_words - 1:-1]]))\n",
    "\n",
    "display_topics(nmf_model, cv_tfidf.get_feature_names(), 10)"
   ]
  },
  {
   "cell_type": "markdown",
   "metadata": {},
   "source": [
    "# Count Vectorizer"
   ]
  },
  {
   "cell_type": "code",
   "execution_count": 32,
   "metadata": {
    "ExecuteTime": {
     "end_time": "2019-04-10T07:18:53.828719Z",
     "start_time": "2019-04-10T07:18:53.824251Z"
    }
   },
   "outputs": [],
   "source": [
    "# topic_count = 15 #12 is better #13 was good. # 14 was hazy"
   ]
  },
  {
   "cell_type": "code",
   "execution_count": 33,
   "metadata": {
    "ExecuteTime": {
     "end_time": "2019-04-10T07:18:53.836483Z",
     "start_time": "2019-04-10T07:18:53.832580Z"
    }
   },
   "outputs": [],
   "source": [
    "# from sklearn.feature_extraction.text import CountVectorizer\n",
    "\n",
    "# cv1 = CountVectorizer(max_df=.12, min_df=15, stop_words=new_stopwords_list)\n",
    "\n",
    "# X = cv1.fit_transform(df_char_episode2.line_text).toarray()\n",
    "\n",
    "# df2 = pd.DataFrame(X, columns= cv1.get_feature_names())"
   ]
  },
  {
   "cell_type": "code",
   "execution_count": 34,
   "metadata": {
    "ExecuteTime": {
     "end_time": "2019-04-10T07:18:53.845147Z",
     "start_time": "2019-04-10T07:18:53.840893Z"
    }
   },
   "outputs": [],
   "source": [
    "# nmf_model = NMF(topic_count)\n",
    "# doc_topic = nmf_model.fit_transform(X) #enter model here\n",
    "\n",
    "# topic_word = pd.DataFrame(nmf_model.components_.round(3),\n",
    "#              index = [x for x in range(topic_count)],\n",
    "#              columns = cv1.get_feature_names())\n",
    "# # topic_word"
   ]
  },
  {
   "cell_type": "code",
   "execution_count": 35,
   "metadata": {
    "ExecuteTime": {
     "end_time": "2019-04-10T07:18:53.855986Z",
     "start_time": "2019-04-10T07:18:53.849774Z"
    }
   },
   "outputs": [],
   "source": [
    "# def display_topics(model, feature_names, no_top_words, topic_names=None):\n",
    "#     for ix, topic in enumerate(model.components_):\n",
    "#         if not topic_names or not topic_names[ix]:\n",
    "#             print(\"\\nTopic \", ix)\n",
    "#         else:\n",
    "#             print(\"\\nTopic: '\",topic_names[ix],\"'\")\n",
    "#         print(\", \".join([feature_names[i]\n",
    "#                         for i in topic.argsort()[:-no_top_words - 1:-1]]))\n",
    "\n",
    "# display_topics(nmf_model, cv1.get_feature_names(), 10)"
   ]
  },
  {
   "cell_type": "markdown",
   "metadata": {},
   "source": [
    "# START HERE - Squishing the episodes and getting topic distribution"
   ]
  },
  {
   "cell_type": "markdown",
   "metadata": {},
   "source": [
    "### Seeing the topics"
   ]
  },
  {
   "cell_type": "markdown",
   "metadata": {},
   "source": [
    "### Averaging groupby by title"
   ]
  },
  {
   "cell_type": "code",
   "execution_count": 36,
   "metadata": {
    "ExecuteTime": {
     "end_time": "2019-04-10T07:18:53.877861Z",
     "start_time": "2019-04-10T07:18:53.859713Z"
    }
   },
   "outputs": [
    {
     "data": {
      "text/plain": [
       "0               Jury Duty\n",
       "1      Moroccan Christmas\n",
       "2               New Leads\n",
       "3                   Broke\n",
       "4          Suit Warehouse\n",
       "5          Branch Closing\n",
       "6            Scott's Tots\n",
       "7          Gay Witch Hunt\n",
       "8    Women's Appreciation\n",
       "dtype: object"
      ]
     },
     "execution_count": 36,
     "metadata": {},
     "output_type": "execute_result"
    }
   ],
   "source": [
    "doc_title = pd.DataFrame(doc_topic.round(2),\n",
    "             index = df_titles,\n",
    "             columns = [x for x in range(topic_count)])\n",
    "# doc_title\n",
    "\n",
    "doc_title.idxmax()"
   ]
  },
  {
   "cell_type": "code",
   "execution_count": 37,
   "metadata": {
    "ExecuteTime": {
     "end_time": "2019-04-10T07:18:53.915753Z",
     "start_time": "2019-04-10T07:18:53.883296Z"
    }
   },
   "outputs": [
    {
     "data": {
      "text/html": [
       "<div>\n",
       "<style scoped>\n",
       "    .dataframe tbody tr th:only-of-type {\n",
       "        vertical-align: middle;\n",
       "    }\n",
       "\n",
       "    .dataframe tbody tr th {\n",
       "        vertical-align: top;\n",
       "    }\n",
       "\n",
       "    .dataframe thead th {\n",
       "        text-align: right;\n",
       "    }\n",
       "</style>\n",
       "<table border=\"1\" class=\"dataframe\">\n",
       "  <thead>\n",
       "    <tr style=\"text-align: right;\">\n",
       "      <th></th>\n",
       "      <th>0</th>\n",
       "      <th>1</th>\n",
       "      <th>2</th>\n",
       "      <th>3</th>\n",
       "      <th>4</th>\n",
       "      <th>5</th>\n",
       "      <th>6</th>\n",
       "      <th>7</th>\n",
       "      <th>8</th>\n",
       "    </tr>\n",
       "    <tr>\n",
       "      <th>title</th>\n",
       "      <th></th>\n",
       "      <th></th>\n",
       "      <th></th>\n",
       "      <th></th>\n",
       "      <th></th>\n",
       "      <th></th>\n",
       "      <th></th>\n",
       "      <th></th>\n",
       "      <th></th>\n",
       "    </tr>\n",
       "  </thead>\n",
       "  <tbody>\n",
       "    <tr>\n",
       "      <th>A Benihana Christmas</th>\n",
       "      <td>0.158537</td>\n",
       "      <td>0.533537</td>\n",
       "      <td>0.064024</td>\n",
       "      <td>0.021341</td>\n",
       "      <td>0.024390</td>\n",
       "      <td>0.094512</td>\n",
       "      <td>0.012195</td>\n",
       "      <td>0.060976</td>\n",
       "      <td>0.030488</td>\n",
       "    </tr>\n",
       "    <tr>\n",
       "      <th>A.A.R.M.</th>\n",
       "      <td>0.341880</td>\n",
       "      <td>0.008547</td>\n",
       "      <td>0.085470</td>\n",
       "      <td>0.145299</td>\n",
       "      <td>0.200855</td>\n",
       "      <td>0.008547</td>\n",
       "      <td>0.064103</td>\n",
       "      <td>0.089744</td>\n",
       "      <td>0.055556</td>\n",
       "    </tr>\n",
       "    <tr>\n",
       "      <th>After Hours</th>\n",
       "      <td>0.459302</td>\n",
       "      <td>0.005814</td>\n",
       "      <td>0.180233</td>\n",
       "      <td>0.034884</td>\n",
       "      <td>0.011628</td>\n",
       "      <td>0.046512</td>\n",
       "      <td>0.017442</td>\n",
       "      <td>0.122093</td>\n",
       "      <td>0.122093</td>\n",
       "    </tr>\n",
       "    <tr>\n",
       "      <th>Andy's Ancestry</th>\n",
       "      <td>0.544554</td>\n",
       "      <td>0.049505</td>\n",
       "      <td>0.089109</td>\n",
       "      <td>0.138614</td>\n",
       "      <td>0.049505</td>\n",
       "      <td>0.029703</td>\n",
       "      <td>0.009901</td>\n",
       "      <td>0.059406</td>\n",
       "      <td>0.029703</td>\n",
       "    </tr>\n",
       "    <tr>\n",
       "      <th>Andy's Play</th>\n",
       "      <td>0.448276</td>\n",
       "      <td>0.017241</td>\n",
       "      <td>0.129310</td>\n",
       "      <td>0.017241</td>\n",
       "      <td>0.008621</td>\n",
       "      <td>0.008621</td>\n",
       "      <td>0.189655</td>\n",
       "      <td>0.103448</td>\n",
       "      <td>0.077586</td>\n",
       "    </tr>\n",
       "  </tbody>\n",
       "</table>\n",
       "</div>"
      ],
      "text/plain": [
       "                             0         1         2         3         4  \\\n",
       "title                                                                    \n",
       "A Benihana Christmas  0.158537  0.533537  0.064024  0.021341  0.024390   \n",
       "A.A.R.M.              0.341880  0.008547  0.085470  0.145299  0.200855   \n",
       "After Hours           0.459302  0.005814  0.180233  0.034884  0.011628   \n",
       "Andy's Ancestry       0.544554  0.049505  0.089109  0.138614  0.049505   \n",
       "Andy's Play           0.448276  0.017241  0.129310  0.017241  0.008621   \n",
       "\n",
       "                             5         6         7         8  \n",
       "title                                                         \n",
       "A Benihana Christmas  0.094512  0.012195  0.060976  0.030488  \n",
       "A.A.R.M.              0.008547  0.064103  0.089744  0.055556  \n",
       "After Hours           0.046512  0.017442  0.122093  0.122093  \n",
       "Andy's Ancestry       0.029703  0.009901  0.059406  0.029703  \n",
       "Andy's Play           0.008621  0.189655  0.103448  0.077586  "
      ]
     },
     "execution_count": 37,
     "metadata": {},
     "output_type": "execute_result"
    }
   ],
   "source": [
    "grouped_title = doc_title.groupby('title')[[x for x in range(topic_count)]].mean()\n",
    "\n",
    "# grouped_title.head()\n",
    "\n",
    "grouped_title_scaled = grouped_title.div(grouped_title.sum(axis=1), axis=0)\n",
    "\n",
    "grouped_title_scaled.head()"
   ]
  },
  {
   "cell_type": "code",
   "execution_count": 38,
   "metadata": {
    "ExecuteTime": {
     "end_time": "2019-04-10T07:18:53.959501Z",
     "start_time": "2019-04-10T07:18:53.919684Z"
    }
   },
   "outputs": [
    {
     "data": {
      "text/html": [
       "<div>\n",
       "<style scoped>\n",
       "    .dataframe tbody tr th:only-of-type {\n",
       "        vertical-align: middle;\n",
       "    }\n",
       "\n",
       "    .dataframe tbody tr th {\n",
       "        vertical-align: top;\n",
       "    }\n",
       "\n",
       "    .dataframe thead th {\n",
       "        text-align: right;\n",
       "    }\n",
       "</style>\n",
       "<table border=\"1\" class=\"dataframe\">\n",
       "  <thead>\n",
       "    <tr style=\"text-align: right;\">\n",
       "      <th></th>\n",
       "      <th></th>\n",
       "      <th>0</th>\n",
       "      <th>1</th>\n",
       "      <th>2</th>\n",
       "      <th>3</th>\n",
       "      <th>4</th>\n",
       "      <th>5</th>\n",
       "      <th>6</th>\n",
       "      <th>7</th>\n",
       "      <th>8</th>\n",
       "    </tr>\n",
       "    <tr>\n",
       "      <th>season</th>\n",
       "      <th>title</th>\n",
       "      <th></th>\n",
       "      <th></th>\n",
       "      <th></th>\n",
       "      <th></th>\n",
       "      <th></th>\n",
       "      <th></th>\n",
       "      <th></th>\n",
       "      <th></th>\n",
       "      <th></th>\n",
       "    </tr>\n",
       "  </thead>\n",
       "  <tbody>\n",
       "    <tr>\n",
       "      <th>3</th>\n",
       "      <th>A Benihana Christmas</th>\n",
       "      <td>0.158537</td>\n",
       "      <td>0.533537</td>\n",
       "      <td>0.064024</td>\n",
       "      <td>0.021341</td>\n",
       "      <td>0.024390</td>\n",
       "      <td>0.094512</td>\n",
       "      <td>0.012195</td>\n",
       "      <td>0.060976</td>\n",
       "      <td>0.030488</td>\n",
       "    </tr>\n",
       "    <tr>\n",
       "      <th>9</th>\n",
       "      <th>A.A.R.M.</th>\n",
       "      <td>0.341880</td>\n",
       "      <td>0.008547</td>\n",
       "      <td>0.085470</td>\n",
       "      <td>0.145299</td>\n",
       "      <td>0.200855</td>\n",
       "      <td>0.008547</td>\n",
       "      <td>0.064103</td>\n",
       "      <td>0.089744</td>\n",
       "      <td>0.055556</td>\n",
       "    </tr>\n",
       "    <tr>\n",
       "      <th>8</th>\n",
       "      <th>After Hours</th>\n",
       "      <td>0.459302</td>\n",
       "      <td>0.005814</td>\n",
       "      <td>0.180233</td>\n",
       "      <td>0.034884</td>\n",
       "      <td>0.011628</td>\n",
       "      <td>0.046512</td>\n",
       "      <td>0.017442</td>\n",
       "      <td>0.122093</td>\n",
       "      <td>0.122093</td>\n",
       "    </tr>\n",
       "    <tr>\n",
       "      <th>9</th>\n",
       "      <th>Andy's Ancestry</th>\n",
       "      <td>0.544554</td>\n",
       "      <td>0.049505</td>\n",
       "      <td>0.089109</td>\n",
       "      <td>0.138614</td>\n",
       "      <td>0.049505</td>\n",
       "      <td>0.029703</td>\n",
       "      <td>0.009901</td>\n",
       "      <td>0.059406</td>\n",
       "      <td>0.029703</td>\n",
       "    </tr>\n",
       "    <tr>\n",
       "      <th>7</th>\n",
       "      <th>Andy's Play</th>\n",
       "      <td>0.448276</td>\n",
       "      <td>0.017241</td>\n",
       "      <td>0.129310</td>\n",
       "      <td>0.017241</td>\n",
       "      <td>0.008621</td>\n",
       "      <td>0.008621</td>\n",
       "      <td>0.189655</td>\n",
       "      <td>0.103448</td>\n",
       "      <td>0.077586</td>\n",
       "    </tr>\n",
       "  </tbody>\n",
       "</table>\n",
       "</div>"
      ],
      "text/plain": [
       "                                    0         1         2         3         4  \\\n",
       "season title                                                                    \n",
       "3      A Benihana Christmas  0.158537  0.533537  0.064024  0.021341  0.024390   \n",
       "9      A.A.R.M.              0.341880  0.008547  0.085470  0.145299  0.200855   \n",
       "8      After Hours           0.459302  0.005814  0.180233  0.034884  0.011628   \n",
       "9      Andy's Ancestry       0.544554  0.049505  0.089109  0.138614  0.049505   \n",
       "7      Andy's Play           0.448276  0.017241  0.129310  0.017241  0.008621   \n",
       "\n",
       "                                    5         6         7         8  \n",
       "season title                                                         \n",
       "3      A Benihana Christmas  0.094512  0.012195  0.060976  0.030488  \n",
       "9      A.A.R.M.              0.008547  0.064103  0.089744  0.055556  \n",
       "8      After Hours           0.046512  0.017442  0.122093  0.122093  \n",
       "9      Andy's Ancestry       0.029703  0.009901  0.059406  0.029703  \n",
       "7      Andy's Play           0.008621  0.189655  0.103448  0.077586  "
      ]
     },
     "execution_count": 38,
     "metadata": {},
     "output_type": "execute_result"
    }
   ],
   "source": [
    "df_episode_list2 = df_episode_list.drop(columns = 'episode')\n",
    "\n",
    "df_episode_list2 = df_episode_list2.set_index('title')\n",
    "\n",
    "season_title_df = grouped_title_scaled.join(df_episode_list2).reset_index()\n",
    "\n",
    "season_title_df = season_title_df.set_index(['season','title'])\n",
    "\n",
    "season_title_df.head()"
   ]
  },
  {
   "cell_type": "code",
   "execution_count": 39,
   "metadata": {
    "ExecuteTime": {
     "end_time": "2019-04-10T07:18:53.971958Z",
     "start_time": "2019-04-10T07:18:53.962565Z"
    }
   },
   "outputs": [],
   "source": [
    "##Inside function now\n",
    "# title_search = \"A Benihana Christmas\"\n",
    "\n",
    "# a = np.array(grouped_title_scaled.loc[title_search]).reshape(1,-1)\n",
    "# # a.shape\n",
    "# b = np.array(grouped_title_scaled)\n",
    "# # b.shape\n",
    "# cos = cosine_similarity(b,a)\n",
    "# grouped_title_scaled.iloc[cos.argsort(axis=0)[-2]]\n",
    "\n",
    "def similar_episode(epi):\n",
    "    title_search = epi\n",
    "    a = np.array(grouped_title_scaled.loc[title_search]).reshape(1,-1)\n",
    "    b = np.array(grouped_title_scaled)\n",
    "\n",
    "    cos = cosine_similarity(b,a)\n",
    "    return grouped_title_scaled.iloc[pd.np.r_[[item for sublist in cos.argsort(axis=0)[-11:-1].tolist() for item in sublist][::-1]]]"
   ]
  },
  {
   "cell_type": "code",
   "execution_count": 40,
   "metadata": {
    "ExecuteTime": {
     "end_time": "2019-04-10T07:18:54.003726Z",
     "start_time": "2019-04-10T07:18:53.976065Z"
    }
   },
   "outputs": [
    {
     "data": {
      "text/html": [
       "<div>\n",
       "<style scoped>\n",
       "    .dataframe tbody tr th:only-of-type {\n",
       "        vertical-align: middle;\n",
       "    }\n",
       "\n",
       "    .dataframe tbody tr th {\n",
       "        vertical-align: top;\n",
       "    }\n",
       "\n",
       "    .dataframe thead th {\n",
       "        text-align: right;\n",
       "    }\n",
       "</style>\n",
       "<table border=\"1\" class=\"dataframe\">\n",
       "  <thead>\n",
       "    <tr style=\"text-align: right;\">\n",
       "      <th></th>\n",
       "      <th>0</th>\n",
       "      <th>1</th>\n",
       "      <th>2</th>\n",
       "      <th>3</th>\n",
       "      <th>4</th>\n",
       "      <th>5</th>\n",
       "      <th>6</th>\n",
       "      <th>7</th>\n",
       "      <th>8</th>\n",
       "    </tr>\n",
       "    <tr>\n",
       "      <th>title</th>\n",
       "      <th></th>\n",
       "      <th></th>\n",
       "      <th></th>\n",
       "      <th></th>\n",
       "      <th></th>\n",
       "      <th></th>\n",
       "      <th></th>\n",
       "      <th></th>\n",
       "      <th></th>\n",
       "    </tr>\n",
       "  </thead>\n",
       "  <tbody>\n",
       "    <tr>\n",
       "      <th>Moroccan Christmas</th>\n",
       "      <td>0.117949</td>\n",
       "      <td>0.687179</td>\n",
       "      <td>0.005128</td>\n",
       "      <td>0.005128</td>\n",
       "      <td>0.020513</td>\n",
       "      <td>0.025641</td>\n",
       "      <td>0.010256</td>\n",
       "      <td>0.097436</td>\n",
       "      <td>0.030769</td>\n",
       "    </tr>\n",
       "    <tr>\n",
       "      <th>Dwight Christmas</th>\n",
       "      <td>0.175879</td>\n",
       "      <td>0.582915</td>\n",
       "      <td>0.005025</td>\n",
       "      <td>0.020101</td>\n",
       "      <td>0.090452</td>\n",
       "      <td>0.010050</td>\n",
       "      <td>0.010050</td>\n",
       "      <td>0.095477</td>\n",
       "      <td>0.010050</td>\n",
       "    </tr>\n",
       "    <tr>\n",
       "      <th>Classy Christmas</th>\n",
       "      <td>0.226230</td>\n",
       "      <td>0.409836</td>\n",
       "      <td>0.049180</td>\n",
       "      <td>0.022951</td>\n",
       "      <td>0.013115</td>\n",
       "      <td>0.019672</td>\n",
       "      <td>0.032787</td>\n",
       "      <td>0.101639</td>\n",
       "      <td>0.124590</td>\n",
       "    </tr>\n",
       "    <tr>\n",
       "      <th>Christmas Party</th>\n",
       "      <td>0.100877</td>\n",
       "      <td>0.372807</td>\n",
       "      <td>0.078947</td>\n",
       "      <td>0.021930</td>\n",
       "      <td>0.065789</td>\n",
       "      <td>0.179825</td>\n",
       "      <td>0.004386</td>\n",
       "      <td>0.171053</td>\n",
       "      <td>0.004386</td>\n",
       "    </tr>\n",
       "    <tr>\n",
       "      <th>Christmas Wishes</th>\n",
       "      <td>0.248731</td>\n",
       "      <td>0.329949</td>\n",
       "      <td>0.015228</td>\n",
       "      <td>0.030457</td>\n",
       "      <td>0.111675</td>\n",
       "      <td>0.065990</td>\n",
       "      <td>0.000000</td>\n",
       "      <td>0.081218</td>\n",
       "      <td>0.116751</td>\n",
       "    </tr>\n",
       "    <tr>\n",
       "      <th>Secret Santa</th>\n",
       "      <td>0.118919</td>\n",
       "      <td>0.351351</td>\n",
       "      <td>0.021622</td>\n",
       "      <td>0.102703</td>\n",
       "      <td>0.070270</td>\n",
       "      <td>0.032432</td>\n",
       "      <td>0.005405</td>\n",
       "      <td>0.248649</td>\n",
       "      <td>0.048649</td>\n",
       "    </tr>\n",
       "    <tr>\n",
       "      <th>Welcome Party</th>\n",
       "      <td>0.277778</td>\n",
       "      <td>0.282407</td>\n",
       "      <td>0.000000</td>\n",
       "      <td>0.050926</td>\n",
       "      <td>0.013889</td>\n",
       "      <td>0.106481</td>\n",
       "      <td>0.027778</td>\n",
       "      <td>0.138889</td>\n",
       "      <td>0.101852</td>\n",
       "    </tr>\n",
       "    <tr>\n",
       "      <th>Survivor Man</th>\n",
       "      <td>0.265823</td>\n",
       "      <td>0.272152</td>\n",
       "      <td>0.018987</td>\n",
       "      <td>0.037975</td>\n",
       "      <td>0.094937</td>\n",
       "      <td>0.202532</td>\n",
       "      <td>0.000000</td>\n",
       "      <td>0.050633</td>\n",
       "      <td>0.056962</td>\n",
       "    </tr>\n",
       "    <tr>\n",
       "      <th>Michael's Birthday</th>\n",
       "      <td>0.190840</td>\n",
       "      <td>0.267176</td>\n",
       "      <td>0.007634</td>\n",
       "      <td>0.030534</td>\n",
       "      <td>0.274809</td>\n",
       "      <td>0.045802</td>\n",
       "      <td>0.007634</td>\n",
       "      <td>0.015267</td>\n",
       "      <td>0.160305</td>\n",
       "    </tr>\n",
       "    <tr>\n",
       "      <th>Spooked</th>\n",
       "      <td>0.312500</td>\n",
       "      <td>0.182292</td>\n",
       "      <td>0.151042</td>\n",
       "      <td>0.020833</td>\n",
       "      <td>0.057292</td>\n",
       "      <td>0.067708</td>\n",
       "      <td>0.015625</td>\n",
       "      <td>0.104167</td>\n",
       "      <td>0.088542</td>\n",
       "    </tr>\n",
       "  </tbody>\n",
       "</table>\n",
       "</div>"
      ],
      "text/plain": [
       "                           0         1         2         3         4  \\\n",
       "title                                                                  \n",
       "Moroccan Christmas  0.117949  0.687179  0.005128  0.005128  0.020513   \n",
       "Dwight Christmas    0.175879  0.582915  0.005025  0.020101  0.090452   \n",
       "Classy Christmas    0.226230  0.409836  0.049180  0.022951  0.013115   \n",
       "Christmas Party     0.100877  0.372807  0.078947  0.021930  0.065789   \n",
       "Christmas Wishes    0.248731  0.329949  0.015228  0.030457  0.111675   \n",
       "Secret Santa        0.118919  0.351351  0.021622  0.102703  0.070270   \n",
       "Welcome Party       0.277778  0.282407  0.000000  0.050926  0.013889   \n",
       "Survivor Man        0.265823  0.272152  0.018987  0.037975  0.094937   \n",
       "Michael's Birthday  0.190840  0.267176  0.007634  0.030534  0.274809   \n",
       "Spooked             0.312500  0.182292  0.151042  0.020833  0.057292   \n",
       "\n",
       "                           5         6         7         8  \n",
       "title                                                       \n",
       "Moroccan Christmas  0.025641  0.010256  0.097436  0.030769  \n",
       "Dwight Christmas    0.010050  0.010050  0.095477  0.010050  \n",
       "Classy Christmas    0.019672  0.032787  0.101639  0.124590  \n",
       "Christmas Party     0.179825  0.004386  0.171053  0.004386  \n",
       "Christmas Wishes    0.065990  0.000000  0.081218  0.116751  \n",
       "Secret Santa        0.032432  0.005405  0.248649  0.048649  \n",
       "Welcome Party       0.106481  0.027778  0.138889  0.101852  \n",
       "Survivor Man        0.202532  0.000000  0.050633  0.056962  \n",
       "Michael's Birthday  0.045802  0.007634  0.015267  0.160305  \n",
       "Spooked             0.067708  0.015625  0.104167  0.088542  "
      ]
     },
     "execution_count": 40,
     "metadata": {},
     "output_type": "execute_result"
    }
   ],
   "source": [
    "similar_episode('A Benihana Christmas')"
   ]
  },
  {
   "cell_type": "markdown",
   "metadata": {},
   "source": [
    "# Averaging groupby by character Preprocessing"
   ]
  },
  {
   "cell_type": "code",
   "execution_count": 41,
   "metadata": {
    "ExecuteTime": {
     "end_time": "2019-04-10T07:18:54.035986Z",
     "start_time": "2019-04-10T07:18:54.012242Z"
    }
   },
   "outputs": [],
   "source": [
    "doc_merge = pd.DataFrame.copy(doc_title, deep=True)\n",
    "\n",
    "doc_merge['speaker'] = speakers.values\n",
    "doc_merge['season'] = seasons.values\n",
    "\n",
    "doc_merge2 = doc_merge.groupby(['season','speaker'])[[x for x in range(topic_count)]].mean().reset_index()\n",
    "\n",
    "# doc_merge2.head()\n",
    "\n",
    "doc_merge2 = doc_merge2.set_index(['season','speaker'])"
   ]
  },
  {
   "cell_type": "code",
   "execution_count": 42,
   "metadata": {
    "ExecuteTime": {
     "end_time": "2019-04-10T07:18:54.062944Z",
     "start_time": "2019-04-10T07:18:54.038760Z"
    }
   },
   "outputs": [],
   "source": [
    "doc_merge_scaled = doc_merge2.div(doc_merge2.sum(axis=1), axis=0)\n",
    "\n",
    "# doc_merge_scaled.head()\n",
    "\n",
    "doc_merge_scaled = doc_merge_scaled.dropna()\n",
    "\n",
    "# if speaker appears in at least 5 seasons\n",
    "doc_merge_scaled2 = doc_merge_scaled[doc_merge_scaled.index.get_level_values(1).isin(doc_merge_scaled.index.get_level_values(1).value_counts()[doc_merge_scaled.index.get_level_values(1).value_counts()>4].index)]"
   ]
  },
  {
   "cell_type": "markdown",
   "metadata": {},
   "source": [
    "# looking at similar char including themselves"
   ]
  },
  {
   "cell_type": "code",
   "execution_count": 43,
   "metadata": {
    "ExecuteTime": {
     "end_time": "2019-04-10T07:18:54.105835Z",
     "start_time": "2019-04-10T07:18:54.066693Z"
    }
   },
   "outputs": [
    {
     "data": {
      "text/html": [
       "<div>\n",
       "<style scoped>\n",
       "    .dataframe tbody tr th:only-of-type {\n",
       "        vertical-align: middle;\n",
       "    }\n",
       "\n",
       "    .dataframe tbody tr th {\n",
       "        vertical-align: top;\n",
       "    }\n",
       "\n",
       "    .dataframe thead th {\n",
       "        text-align: right;\n",
       "    }\n",
       "</style>\n",
       "<table border=\"1\" class=\"dataframe\">\n",
       "  <thead>\n",
       "    <tr style=\"text-align: right;\">\n",
       "      <th></th>\n",
       "      <th></th>\n",
       "      <th>0</th>\n",
       "      <th>1</th>\n",
       "      <th>2</th>\n",
       "      <th>3</th>\n",
       "      <th>4</th>\n",
       "      <th>5</th>\n",
       "      <th>6</th>\n",
       "      <th>7</th>\n",
       "      <th>8</th>\n",
       "    </tr>\n",
       "    <tr>\n",
       "      <th>season</th>\n",
       "      <th>speaker</th>\n",
       "      <th></th>\n",
       "      <th></th>\n",
       "      <th></th>\n",
       "      <th></th>\n",
       "      <th></th>\n",
       "      <th></th>\n",
       "      <th></th>\n",
       "      <th></th>\n",
       "      <th></th>\n",
       "    </tr>\n",
       "  </thead>\n",
       "  <tbody>\n",
       "    <tr>\n",
       "      <th>3</th>\n",
       "      <th>dwight</th>\n",
       "      <td>0.252055</td>\n",
       "      <td>0.065753</td>\n",
       "      <td>0.010959</td>\n",
       "      <td>0.186301</td>\n",
       "      <td>0.013699</td>\n",
       "      <td>0.142466</td>\n",
       "      <td>0.057534</td>\n",
       "      <td>0.112329</td>\n",
       "      <td>0.158904</td>\n",
       "    </tr>\n",
       "  </tbody>\n",
       "</table>\n",
       "</div>"
      ],
      "text/plain": [
       "                       0         1         2         3         4         5  \\\n",
       "season speaker                                                               \n",
       "3      dwight   0.252055  0.065753  0.010959  0.186301  0.013699  0.142466   \n",
       "\n",
       "                       6         7         8  \n",
       "season speaker                                \n",
       "3      dwight   0.057534  0.112329  0.158904  "
      ]
     },
     "execution_count": 43,
     "metadata": {},
     "output_type": "execute_result"
    }
   ],
   "source": [
    "input_season = 1\n",
    "input_char = 'michael'\n",
    "char_search = input_season , input_char\n",
    "\n",
    "a = np.array(doc_merge_scaled2.loc[char_search]).reshape(1,-1)\n",
    "b = np.array(doc_merge_scaled2)\n",
    "\n",
    "cos = cosine_similarity(b,a)\n",
    "doc_merge_scaled2.iloc[cos.argsort(axis=0)[-2]]"
   ]
  },
  {
   "cell_type": "markdown",
   "metadata": {},
   "source": [
    "# function to get similar, excluding self"
   ]
  },
  {
   "cell_type": "code",
   "execution_count": 44,
   "metadata": {
    "ExecuteTime": {
     "end_time": "2019-04-10T07:18:54.145175Z",
     "start_time": "2019-04-10T07:18:54.110459Z"
    }
   },
   "outputs": [
    {
     "data": {
      "text/html": [
       "<div>\n",
       "<style scoped>\n",
       "    .dataframe tbody tr th:only-of-type {\n",
       "        vertical-align: middle;\n",
       "    }\n",
       "\n",
       "    .dataframe tbody tr th {\n",
       "        vertical-align: top;\n",
       "    }\n",
       "\n",
       "    .dataframe thead th {\n",
       "        text-align: right;\n",
       "    }\n",
       "</style>\n",
       "<table border=\"1\" class=\"dataframe\">\n",
       "  <thead>\n",
       "    <tr style=\"text-align: right;\">\n",
       "      <th></th>\n",
       "      <th></th>\n",
       "      <th>0</th>\n",
       "      <th>1</th>\n",
       "      <th>2</th>\n",
       "      <th>3</th>\n",
       "      <th>4</th>\n",
       "      <th>5</th>\n",
       "      <th>6</th>\n",
       "      <th>7</th>\n",
       "      <th>8</th>\n",
       "    </tr>\n",
       "    <tr>\n",
       "      <th>season</th>\n",
       "      <th>speaker</th>\n",
       "      <th></th>\n",
       "      <th></th>\n",
       "      <th></th>\n",
       "      <th></th>\n",
       "      <th></th>\n",
       "      <th></th>\n",
       "      <th></th>\n",
       "      <th></th>\n",
       "      <th></th>\n",
       "    </tr>\n",
       "  </thead>\n",
       "  <tbody>\n",
       "    <tr>\n",
       "      <th rowspan=\"10\" valign=\"top\">1</th>\n",
       "      <th>michael</th>\n",
       "      <td>0.265896</td>\n",
       "      <td>0.028902</td>\n",
       "      <td>0.011561</td>\n",
       "      <td>0.150289</td>\n",
       "      <td>0.040462</td>\n",
       "      <td>0.156069</td>\n",
       "      <td>0.092486</td>\n",
       "      <td>0.138728</td>\n",
       "      <td>0.115607</td>\n",
       "    </tr>\n",
       "    <tr>\n",
       "      <th>dwight</th>\n",
       "      <td>0.298701</td>\n",
       "      <td>0.012987</td>\n",
       "      <td>0.077922</td>\n",
       "      <td>0.337662</td>\n",
       "      <td>0.012987</td>\n",
       "      <td>0.012987</td>\n",
       "      <td>0.051948</td>\n",
       "      <td>0.103896</td>\n",
       "      <td>0.090909</td>\n",
       "    </tr>\n",
       "    <tr>\n",
       "      <th>pam</th>\n",
       "      <td>0.170455</td>\n",
       "      <td>0.102273</td>\n",
       "      <td>0.000000</td>\n",
       "      <td>0.147727</td>\n",
       "      <td>0.102273</td>\n",
       "      <td>0.034091</td>\n",
       "      <td>0.113636</td>\n",
       "      <td>0.136364</td>\n",
       "      <td>0.193182</td>\n",
       "    </tr>\n",
       "    <tr>\n",
       "      <th>stanley</th>\n",
       "      <td>0.555556</td>\n",
       "      <td>0.111111</td>\n",
       "      <td>0.000000</td>\n",
       "      <td>0.000000</td>\n",
       "      <td>0.111111</td>\n",
       "      <td>0.000000</td>\n",
       "      <td>0.111111</td>\n",
       "      <td>0.000000</td>\n",
       "      <td>0.111111</td>\n",
       "    </tr>\n",
       "    <tr>\n",
       "      <th>kevin</th>\n",
       "      <td>0.846154</td>\n",
       "      <td>0.000000</td>\n",
       "      <td>0.000000</td>\n",
       "      <td>0.000000</td>\n",
       "      <td>0.000000</td>\n",
       "      <td>0.000000</td>\n",
       "      <td>0.076923</td>\n",
       "      <td>0.076923</td>\n",
       "      <td>0.000000</td>\n",
       "    </tr>\n",
       "    <tr>\n",
       "      <th>darryl</th>\n",
       "      <td>0.800000</td>\n",
       "      <td>0.000000</td>\n",
       "      <td>0.000000</td>\n",
       "      <td>0.000000</td>\n",
       "      <td>0.200000</td>\n",
       "      <td>0.000000</td>\n",
       "      <td>0.000000</td>\n",
       "      <td>0.000000</td>\n",
       "      <td>0.000000</td>\n",
       "    </tr>\n",
       "    <tr>\n",
       "      <th>phyllis</th>\n",
       "      <td>1.000000</td>\n",
       "      <td>0.000000</td>\n",
       "      <td>0.000000</td>\n",
       "      <td>0.000000</td>\n",
       "      <td>0.000000</td>\n",
       "      <td>0.000000</td>\n",
       "      <td>0.000000</td>\n",
       "      <td>0.000000</td>\n",
       "      <td>0.000000</td>\n",
       "    </tr>\n",
       "    <tr>\n",
       "      <th>jan</th>\n",
       "      <td>0.085714</td>\n",
       "      <td>0.028571</td>\n",
       "      <td>0.057143</td>\n",
       "      <td>0.514286</td>\n",
       "      <td>0.000000</td>\n",
       "      <td>0.000000</td>\n",
       "      <td>0.114286</td>\n",
       "      <td>0.000000</td>\n",
       "      <td>0.200000</td>\n",
       "    </tr>\n",
       "    <tr>\n",
       "      <th>meredith</th>\n",
       "      <td>0.250000</td>\n",
       "      <td>0.166667</td>\n",
       "      <td>0.000000</td>\n",
       "      <td>0.000000</td>\n",
       "      <td>0.166667</td>\n",
       "      <td>0.166667</td>\n",
       "      <td>0.000000</td>\n",
       "      <td>0.083333</td>\n",
       "      <td>0.166667</td>\n",
       "    </tr>\n",
       "    <tr>\n",
       "      <th>ryan</th>\n",
       "      <td>0.375000</td>\n",
       "      <td>0.000000</td>\n",
       "      <td>0.031250</td>\n",
       "      <td>0.062500</td>\n",
       "      <td>0.000000</td>\n",
       "      <td>0.500000</td>\n",
       "      <td>0.000000</td>\n",
       "      <td>0.000000</td>\n",
       "      <td>0.031250</td>\n",
       "    </tr>\n",
       "  </tbody>\n",
       "</table>\n",
       "</div>"
      ],
      "text/plain": [
       "                        0         1         2         3         4         5  \\\n",
       "season speaker                                                                \n",
       "1      michael   0.265896  0.028902  0.011561  0.150289  0.040462  0.156069   \n",
       "       dwight    0.298701  0.012987  0.077922  0.337662  0.012987  0.012987   \n",
       "       pam       0.170455  0.102273  0.000000  0.147727  0.102273  0.034091   \n",
       "       stanley   0.555556  0.111111  0.000000  0.000000  0.111111  0.000000   \n",
       "       kevin     0.846154  0.000000  0.000000  0.000000  0.000000  0.000000   \n",
       "       darryl    0.800000  0.000000  0.000000  0.000000  0.200000  0.000000   \n",
       "       phyllis   1.000000  0.000000  0.000000  0.000000  0.000000  0.000000   \n",
       "       jan       0.085714  0.028571  0.057143  0.514286  0.000000  0.000000   \n",
       "       meredith  0.250000  0.166667  0.000000  0.000000  0.166667  0.166667   \n",
       "       ryan      0.375000  0.000000  0.031250  0.062500  0.000000  0.500000   \n",
       "\n",
       "                        6         7         8  \n",
       "season speaker                                 \n",
       "1      michael   0.092486  0.138728  0.115607  \n",
       "       dwight    0.051948  0.103896  0.090909  \n",
       "       pam       0.113636  0.136364  0.193182  \n",
       "       stanley   0.111111  0.000000  0.111111  \n",
       "       kevin     0.076923  0.076923  0.000000  \n",
       "       darryl    0.000000  0.000000  0.000000  \n",
       "       phyllis   0.000000  0.000000  0.000000  \n",
       "       jan       0.114286  0.000000  0.200000  \n",
       "       meredith  0.000000  0.083333  0.166667  \n",
       "       ryan      0.000000  0.000000  0.031250  "
      ]
     },
     "execution_count": 44,
     "metadata": {},
     "output_type": "execute_result"
    }
   ],
   "source": [
    "def similar_char(season,char):\n",
    "    input_season = season\n",
    "    input_char = char\n",
    "    char_search = input_season , input_char\n",
    "\n",
    "    test_doc = doc_merge_scaled2[doc_merge_scaled2.index.get_level_values(1) != input_char]\n",
    "    test_doc = test_doc[test_doc.index.get_level_values(0) == input_season]\n",
    "    a = np.array(doc_merge_scaled2.loc[char_search]).reshape(1,-1)\n",
    "    b = np.array(test_doc)\n",
    "\n",
    "    cos = cosine_similarity(b,a)\n",
    "    \n",
    "    max_list = [item for sublist in cos.argsort(axis=0)[-10:].tolist() for item in sublist][::-1]\n",
    "    z_list = []\n",
    "    for num in max_list:\n",
    "        z_list.append(cos[num].tolist())\n",
    "    y_list = [item for sublist in z_list for item in sublist]\n",
    "#     for y in y_list:\n",
    "#         print(y)\n",
    "        \n",
    "    return test_doc.iloc[pd.np.r_[[item for sublist in cos.argsort(axis=0)[-10:].tolist() for item in sublist][::-1]]]\n",
    "\n",
    "similar_char(1,'jim')"
   ]
  },
  {
   "cell_type": "code",
   "execution_count": 51,
   "metadata": {
    "ExecuteTime": {
     "end_time": "2019-04-10T07:18:54.258014Z",
     "start_time": "2019-04-10T07:18:54.205140Z"
    },
    "code_folding": []
   },
   "outputs": [
    {
     "data": {
      "text/html": [
       "<div>\n",
       "<style scoped>\n",
       "    .dataframe tbody tr th:only-of-type {\n",
       "        vertical-align: middle;\n",
       "    }\n",
       "\n",
       "    .dataframe tbody tr th {\n",
       "        vertical-align: top;\n",
       "    }\n",
       "\n",
       "    .dataframe thead th {\n",
       "        text-align: right;\n",
       "    }\n",
       "</style>\n",
       "<table border=\"1\" class=\"dataframe\">\n",
       "  <thead>\n",
       "    <tr style=\"text-align: right;\">\n",
       "      <th></th>\n",
       "      <th></th>\n",
       "      <th>0</th>\n",
       "      <th>1</th>\n",
       "      <th>2</th>\n",
       "      <th>3</th>\n",
       "      <th>4</th>\n",
       "      <th>5</th>\n",
       "      <th>6</th>\n",
       "      <th>7</th>\n",
       "      <th>8</th>\n",
       "    </tr>\n",
       "    <tr>\n",
       "      <th>season</th>\n",
       "      <th>title</th>\n",
       "      <th></th>\n",
       "      <th></th>\n",
       "      <th></th>\n",
       "      <th></th>\n",
       "      <th></th>\n",
       "      <th></th>\n",
       "      <th></th>\n",
       "      <th></th>\n",
       "      <th></th>\n",
       "    </tr>\n",
       "  </thead>\n",
       "  <tbody>\n",
       "    <tr>\n",
       "      <th rowspan=\"6\" valign=\"top\">1</th>\n",
       "      <th>Diversity Day</th>\n",
       "      <td>0.300971</td>\n",
       "      <td>0.009709</td>\n",
       "      <td>0.019417</td>\n",
       "      <td>0.087379</td>\n",
       "      <td>0.048544</td>\n",
       "      <td>0.019417</td>\n",
       "      <td>0.349515</td>\n",
       "      <td>0.135922</td>\n",
       "      <td>0.029126</td>\n",
       "    </tr>\n",
       "    <tr>\n",
       "      <th>The Alliance</th>\n",
       "      <td>0.313559</td>\n",
       "      <td>0.135593</td>\n",
       "      <td>0.025424</td>\n",
       "      <td>0.127119</td>\n",
       "      <td>0.084746</td>\n",
       "      <td>0.042373</td>\n",
       "      <td>0.016949</td>\n",
       "      <td>0.177966</td>\n",
       "      <td>0.076271</td>\n",
       "    </tr>\n",
       "    <tr>\n",
       "      <th>Hot Girl</th>\n",
       "      <td>0.460784</td>\n",
       "      <td>0.000000</td>\n",
       "      <td>0.049020</td>\n",
       "      <td>0.137255</td>\n",
       "      <td>0.088235</td>\n",
       "      <td>0.088235</td>\n",
       "      <td>0.019608</td>\n",
       "      <td>0.078431</td>\n",
       "      <td>0.078431</td>\n",
       "    </tr>\n",
       "    <tr>\n",
       "      <th>Pilot</th>\n",
       "      <td>0.134615</td>\n",
       "      <td>0.019231</td>\n",
       "      <td>0.153846</td>\n",
       "      <td>0.224359</td>\n",
       "      <td>0.000000</td>\n",
       "      <td>0.141026</td>\n",
       "      <td>0.141026</td>\n",
       "      <td>0.032051</td>\n",
       "      <td>0.153846</td>\n",
       "    </tr>\n",
       "    <tr>\n",
       "      <th>Health Care</th>\n",
       "      <td>0.164286</td>\n",
       "      <td>0.014286</td>\n",
       "      <td>0.014286</td>\n",
       "      <td>0.171429</td>\n",
       "      <td>0.357143</td>\n",
       "      <td>0.028571</td>\n",
       "      <td>0.064286</td>\n",
       "      <td>0.057143</td>\n",
       "      <td>0.128571</td>\n",
       "    </tr>\n",
       "    <tr>\n",
       "      <th>Basketball</th>\n",
       "      <td>0.329545</td>\n",
       "      <td>0.011364</td>\n",
       "      <td>0.159091</td>\n",
       "      <td>0.136364</td>\n",
       "      <td>0.022727</td>\n",
       "      <td>0.170455</td>\n",
       "      <td>0.000000</td>\n",
       "      <td>0.170455</td>\n",
       "      <td>0.000000</td>\n",
       "    </tr>\n",
       "  </tbody>\n",
       "</table>\n",
       "</div>"
      ],
      "text/plain": [
       "                             0         1         2         3         4  \\\n",
       "season title                                                             \n",
       "1      Diversity Day  0.300971  0.009709  0.019417  0.087379  0.048544   \n",
       "       The Alliance   0.313559  0.135593  0.025424  0.127119  0.084746   \n",
       "       Hot Girl       0.460784  0.000000  0.049020  0.137255  0.088235   \n",
       "       Pilot          0.134615  0.019231  0.153846  0.224359  0.000000   \n",
       "       Health Care    0.164286  0.014286  0.014286  0.171429  0.357143   \n",
       "       Basketball     0.329545  0.011364  0.159091  0.136364  0.022727   \n",
       "\n",
       "                             5         6         7         8  \n",
       "season title                                                  \n",
       "1      Diversity Day  0.019417  0.349515  0.135922  0.029126  \n",
       "       The Alliance   0.042373  0.016949  0.177966  0.076271  \n",
       "       Hot Girl       0.088235  0.019608  0.078431  0.078431  \n",
       "       Pilot          0.141026  0.141026  0.032051  0.153846  \n",
       "       Health Care    0.028571  0.064286  0.057143  0.128571  \n",
       "       Basketball     0.170455  0.000000  0.170455  0.000000  "
      ]
     },
     "execution_count": 51,
     "metadata": {},
     "output_type": "execute_result"
    }
   ],
   "source": [
    "# # getting character pair vectors\n",
    "# # getting character pair avg vector\n",
    "# # Getting episode for all seasons, no season column\n",
    "# # Getting all episodes in all seasons\n",
    "# # creating error for non-significant char in flask\n",
    "# # adding both insignificant\n",
    "def get_episode_char(season,char,char2):\n",
    "    input_season = season\n",
    "    input_char = char\n",
    "    input_char2 = char2\n",
    "    char_search = input_season , input_char\n",
    "\n",
    "    test_doc = doc_merge_scaled2[doc_merge_scaled2.index.get_level_values(0) == input_season]\n",
    "    test_doc = test_doc[(test_doc.index.get_level_values(1) == input_char2) | (test_doc.index.get_level_values(1) == input_char)]\n",
    "    #added\n",
    "    if test_doc.shape[0]==0:\n",
    "        return [\"Sorry! Both characters are not significant this season\"]\n",
    "    else:    \n",
    "        array1 = test_doc.index.get_level_values(1).str.contains(input_char)\n",
    "        if array1.any():\n",
    "            a = np.array(doc_merge_scaled2.loc[char_search]).reshape(1,-1)\n",
    "            b = np.array(test_doc)\n",
    "\n",
    "            cos = cosine_similarity(b,a)\n",
    "\n",
    "            #get episode vectore \n",
    "            pair_df = test_doc.iloc[pd.np.r_[[item for sublist in cos.argsort(axis=0)[-10:].tolist() for item in sublist][::-1]]]\n",
    "            episode_vec =  pair_df.groupby('season')[[x for x in range(topic_count)]].mean()\n",
    "            #added below\n",
    "            if pair_df.shape[0] == 1:\n",
    "                return [\"Sorry! Second character is not significant this season\"]\n",
    "            if pair_df.shape[0] == 2:\n",
    "                test_episode = season_title_df[season_title_df.index.get_level_values(0) == input_season]\n",
    "\n",
    "                #find closest episode\n",
    "                a2 = np.array(episode_vec.loc[input_season]).reshape(1,-1)\n",
    "                b2 = np.array(test_episode)\n",
    "                cos2 = cosine_similarity(b2,a2)\n",
    "\n",
    "                return test_episode.iloc[pd.np.r_[[item for sublist in cos2.argsort(axis=0)[-11:].tolist() for item in sublist][::-1]]]\n",
    "        else:\n",
    "            return [\"Sorry! First character is not significant this season\"]\n",
    "    \n",
    "get_episode_char(1,'jim','pam')"
   ]
  },
  {
   "cell_type": "code",
   "execution_count": 52,
   "metadata": {
    "ExecuteTime": {
     "end_time": "2019-04-10T07:18:54.280460Z",
     "start_time": "2019-04-10T07:18:54.261058Z"
    }
   },
   "outputs": [
    {
     "data": {
      "text/plain": [
       "['Basketball',\n",
       " 'Hot Girl',\n",
       " 'The Alliance',\n",
       " 'Pilot',\n",
       " 'Diversity Day',\n",
       " 'Health Care']"
      ]
     },
     "execution_count": 52,
     "metadata": {},
     "output_type": "execute_result"
    }
   ],
   "source": [
    "list(get_episode_char(1,'michael','ryan').reset_index()['title'])"
   ]
  },
  {
   "cell_type": "markdown",
   "metadata": {},
   "source": [
    "# JAVASCRIPT FLASK"
   ]
  },
  {
   "cell_type": "code",
   "execution_count": 53,
   "metadata": {
    "ExecuteTime": {
     "end_time": "2019-04-10T07:18:54.289086Z",
     "start_time": "2019-04-10T07:18:54.284005Z"
    }
   },
   "outputs": [],
   "source": [
    "import flask\n",
    "import numpy as np\n",
    "import pandas as pd\n",
    "from copy import deepcopy\n",
    "\n",
    "# Initialize the app\n",
    "app = flask.Flask(__name__)\n",
    "\n",
    "@app.route(\"/\")\n",
    "def viz_page():\n",
    "    with open(\"rec.html\", 'r') as viz_file:\n",
    "        return viz_file.read()\n",
    "\n",
    "@app.route(\"/gof\", methods=[\"POST\"])\n",
    "def score():\n",
    "    \"\"\"\n",
    "    When A POST request with json data is made to this url,\n",
    "    Read the grid from the json, update and send it back\n",
    "    \"\"\"\n",
    "    data = flask.request.json\n",
    "    a = data['grid']\n",
    "    print (a)\n",
    "    \n",
    "    if type(get_episode_char(a[0],a[1],a[2])) is list:\n",
    "        r = get_episode_char(a[0],a[1],a[2])\n",
    "        return flask.jsonify({'grid': r})\n",
    "    else:\n",
    "        r = list(get_episode_char(a[0],a[1],a[2]).reset_index()['title'])\n",
    "        return flask.jsonify({'grid': r})"
   ]
  },
  {
   "cell_type": "code",
   "execution_count": 54,
   "metadata": {
    "ExecuteTime": {
     "end_time": "2019-04-10T07:18:54.297076Z",
     "start_time": "2019-04-10T07:18:54.292906Z"
    }
   },
   "outputs": [],
   "source": [
    "app.run(host='0.0.0.0', port=5000)"
   ]
  }
 ],
 "metadata": {
  "kernelspec": {
   "display_name": "Python 3",
   "language": "python",
   "name": "python3"
  },
  "language_info": {
   "codemirror_mode": {
    "name": "ipython",
    "version": 3
   },
   "file_extension": ".py",
   "mimetype": "text/x-python",
   "name": "python",
   "nbconvert_exporter": "python",
   "pygments_lexer": "ipython3",
   "version": "3.7.2"
  }
 },
 "nbformat": 4,
 "nbformat_minor": 2
}
